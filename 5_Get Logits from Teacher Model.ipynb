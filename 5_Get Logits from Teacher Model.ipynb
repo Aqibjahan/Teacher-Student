{
 "cells": [
  {
   "cell_type": "code",
   "execution_count": 1,
   "metadata": {},
   "outputs": [
    {
     "name": "stderr",
     "output_type": "stream",
     "text": [
      "Using TensorFlow backend.\n"
     ]
    }
   ],
   "source": [
    "import numpy as np\n",
    "from tqdm import tqdm\n",
    "import sys\n",
    "from keras import models\n",
    "from keras import layers\n",
    "sys.path.append('utils/')\n",
    "\n",
    "from keras.models import Model"
   ]
  },
  {
   "cell_type": "code",
   "execution_count": 2,
   "metadata": {},
   "outputs": [],
   "source": [
    "def preprocess_input(x):\n",
    "    x /= 255.0\n",
    "    x -= 0.5\n",
    "    x *= 2.0\n",
    "    return x"
   ]
  },
  {
   "cell_type": "code",
   "execution_count": 3,
   "metadata": {},
   "outputs": [],
   "source": [
    "data_dir = 'E:/Jupyter NB/10 class Classification/'\n",
    "\n",
    "train_dir = 'E:/Jupyter NB/10 class Classification/Train_val_test/train'\n",
    "val_dir = 'E:/Jupyter NB/10 class Classification/Train_val_test/val'\n",
    "#test_dir = 'E:/Jupyter NB/10 class Classification/Train_val_test/test'"
   ]
  },
  {
   "cell_type": "code",
   "execution_count": 4,
   "metadata": {},
   "outputs": [
    {
     "name": "stdout",
     "output_type": "stream",
     "text": [
      "Found 2000 images belonging to 20 classes.\n",
      "Found 400 images belonging to 20 classes.\n",
      "<image_preprocessing_ver1.DirectoryIterator object at 0x0000018951CEF948>\n"
     ]
    }
   ],
   "source": [
    "from image_preprocessing_ver1 import ImageDataGenerator\n",
    "\n",
    "data_generator = ImageDataGenerator(data_format='channels_last', preprocessing_function = preprocess_input)\n",
    "#val_datagen = ImageDataGenerator(rescale=1./255)\n",
    "#test_datagen = ImageDataGenerator(rescale=1./255)\n",
    "\n",
    "train_generator = data_generator.flow_from_directory(\n",
    "    train_dir,\n",
    "    target_size=(299, 299),\n",
    "    batch_size=20,\n",
    "    shuffle=False)\n",
    "\n",
    "validation_generator = data_generator.flow_from_directory(\n",
    "    val_dir,\n",
    "    target_size=(299, 299),\n",
    "    batch_size=20,\n",
    "    shuffle=False)\n",
    "'''\n",
    "test_generator = data_generator.flow_from_directory(\n",
    "    test_dir,\n",
    "    target_size=(299, 299),\n",
    "    batch_size=20,\n",
    "    shuffle=False)\n",
    "'''\n",
    "\n",
    "print(train_generator)"
   ]
  },
  {
   "cell_type": "code",
   "execution_count": 5,
   "metadata": {},
   "outputs": [
    {
     "name": "stdout",
     "output_type": "stream",
     "text": [
      "Model: \"sequential_1\"\n",
      "_________________________________________________________________\n",
      "Layer (type)                 Output Shape              Param #   \n",
      "=================================================================\n",
      "conv2d_1 (Conv2D)            (None, 297, 297, 32)      896       \n",
      "_________________________________________________________________\n",
      "max_pooling2d_1 (MaxPooling2 (None, 148, 148, 32)      0         \n",
      "_________________________________________________________________\n",
      "conv2d_2 (Conv2D)            (None, 146, 146, 64)      18496     \n",
      "_________________________________________________________________\n",
      "max_pooling2d_2 (MaxPooling2 (None, 73, 73, 64)        0         \n",
      "_________________________________________________________________\n",
      "conv2d_3 (Conv2D)            (None, 71, 71, 128)       73856     \n",
      "_________________________________________________________________\n",
      "max_pooling2d_3 (MaxPooling2 (None, 35, 35, 128)       0         \n",
      "_________________________________________________________________\n",
      "conv2d_4 (Conv2D)            (None, 33, 33, 128)       147584    \n",
      "_________________________________________________________________\n",
      "max_pooling2d_4 (MaxPooling2 (None, 16, 16, 128)       0         \n",
      "_________________________________________________________________\n",
      "flatten_1 (Flatten)          (None, 32768)             0         \n",
      "_________________________________________________________________\n",
      "dense_1 (Dense)              (None, 512)               16777728  \n",
      "_________________________________________________________________\n",
      "dense_2 (Dense)              (None, 20)                10260     \n",
      "=================================================================\n",
      "Total params: 17,028,820\n",
      "Trainable params: 17,028,820\n",
      "Non-trainable params: 0\n",
      "_________________________________________________________________\n"
     ]
    }
   ],
   "source": [
    "model = models.Sequential()\n",
    "\n",
    "model.add(layers.Conv2D(32, (3, 3), activation='relu', input_shape=(299, 299, 3)))\n",
    "model.add(layers.MaxPooling2D((2, 2)))\n",
    "model.add(layers.Conv2D(64, (3, 3), activation='relu'))\n",
    "model.add(layers.MaxPooling2D((2, 2)))\n",
    "model.add(layers.Conv2D(128, (3, 3), activation='relu'))\n",
    "model.add(layers.MaxPooling2D((2, 2)))\n",
    "model.add(layers.Conv2D(128, (3, 3), activation='relu'))\n",
    "model.add(layers.MaxPooling2D((2, 2)))\n",
    "\n",
    "model.add(layers.Flatten())\n",
    "model.add(layers.Dense(512, activation='relu'))\n",
    "model.add(layers.Dense(20, activation='softmax'))\n",
    "\n",
    "model.summary()\n",
    "\n",
    "model.load_weights('teacher_weights.hdf5')"
   ]
  },
  {
   "cell_type": "code",
   "execution_count": 6,
   "metadata": {},
   "outputs": [],
   "source": [
    "# remove softmax\n",
    "model.layers.pop()\n",
    "model = Model(model.input, model.layers[-1].output)\n",
    "# now model outputs logits"
   ]
  },
  {
   "cell_type": "code",
   "execution_count": 7,
   "metadata": {},
   "outputs": [
    {
     "name": "stderr",
     "output_type": "stream",
     "text": [
      "99it [00:29,  6.16it/s]"
     ]
    }
   ],
   "source": [
    "from tqdm import tqdm\n",
    "import numpy as np\n",
    "\n",
    "batches = 0\n",
    "train_logits = {}\n",
    "\n",
    "for x_batch, _, name_batch in tqdm(train_generator):\n",
    "    #print(np.shape(x_batch))\n",
    "    #print(name_batch)\n",
    "    #print(len(x_batch))\n",
    "    #print(x_batch)\n",
    "    \n",
    "    batch_logits = model.predict_on_batch(x_batch)\n",
    "    \n",
    "    '''\n",
    "    # Checking\n",
    "    \n",
    "    print(np.shape(batch_logits))\n",
    "    #print(batch_logits)\n",
    "    for i, n in enumerate(name_batch):\n",
    "        print(batch_logits[i])\n",
    "        print(n)\n",
    "    '''\n",
    "    \n",
    "    for i, n in enumerate(name_batch):\n",
    "        #print(i)\n",
    "        #print(n)\n",
    "        #print(train_logits)\n",
    "        #print(batch_logits[i])\n",
    "        train_logits[n] = batch_logits[i]\n",
    "    \n",
    "    batches += 1\n",
    "    if batches >= 100: # 2000/20\n",
    "        break"
   ]
  },
  {
   "cell_type": "code",
   "execution_count": 8,
   "metadata": {},
   "outputs": [
    {
     "name": "stderr",
     "output_type": "stream",
     "text": [
      "\n",
      "0it [00:00, ?it/s]\u001b[A\n",
      "1it [00:00,  3.23it/s]\u001b[A\n",
      "2it [00:00,  3.69it/s]\u001b[A\n",
      "3it [00:00,  4.17it/s]\u001b[A\n",
      "4it [00:00,  4.49it/s]\u001b[A\n",
      "5it [00:01,  4.76it/s]\u001b[A\n",
      "6it [00:01,  5.01it/s]\u001b[A\n",
      "7it [00:01,  5.17it/s]\u001b[A\n",
      "8it [00:01,  5.22it/s]\u001b[A\n",
      "9it [00:01,  5.04it/s]\u001b[A\n",
      "10it [00:01,  5.24it/s]\u001b[A\n",
      "11it [00:02,  5.33it/s]\u001b[A\n",
      "12it [00:02,  5.39it/s]\u001b[A\n",
      "13it [00:02,  5.55it/s]\u001b[A\n",
      "14it [00:02,  5.24it/s]\u001b[A\n",
      "15it [00:02,  5.16it/s]\u001b[A\n",
      "16it [00:03,  5.29it/s]\u001b[A\n",
      "17it [00:03,  5.31it/s]\u001b[A\n",
      "18it [00:03,  5.52it/s]\u001b[A\n",
      "19it [00:03,  5.66it/s]\u001b[A"
     ]
    }
   ],
   "source": [
    "batches = 0\n",
    "val_logits = {}\n",
    "\n",
    "for x_batch, _, name_batch in tqdm(validation_generator):\n",
    "    \n",
    "    batch_logits = model.predict_on_batch(x_batch)\n",
    "    \n",
    "    for i, n in enumerate(name_batch):\n",
    "        val_logits[n] = batch_logits[i]\n",
    "    \n",
    "    batches += 1\n",
    "    if batches >= 20: # 400/20\n",
    "        break"
   ]
  },
  {
   "cell_type": "code",
   "execution_count": 9,
   "metadata": {},
   "outputs": [],
   "source": [
    "np.save(data_dir + 'train_logits.npy', train_logits)\n",
    "np.save(data_dir + 'val_logits.npy', val_logits)"
   ]
  },
  {
   "cell_type": "code",
   "execution_count": null,
   "metadata": {},
   "outputs": [],
   "source": []
  }
 ],
 "metadata": {
  "kernelspec": {
   "display_name": "Python 3.7 (tensorflow)",
   "language": "python",
   "name": "tensorflow"
  },
  "language_info": {
   "codemirror_mode": {
    "name": "ipython",
    "version": 3
   },
   "file_extension": ".py",
   "mimetype": "text/x-python",
   "name": "python",
   "nbconvert_exporter": "python",
   "pygments_lexer": "ipython3",
   "version": "3.7.7"
  }
 },
 "nbformat": 4,
 "nbformat_minor": 4
}
