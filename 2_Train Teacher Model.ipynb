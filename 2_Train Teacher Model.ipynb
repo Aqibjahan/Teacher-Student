{
 "cells": [
  {
   "cell_type": "code",
   "execution_count": 1,
   "metadata": {},
   "outputs": [
    {
     "name": "stderr",
     "output_type": "stream",
     "text": [
      "Using TensorFlow backend.\n"
     ]
    }
   ],
   "source": [
    "from keras import layers\n",
    "from keras import models\n",
    "from keras.preprocessing.image import ImageDataGenerator"
   ]
  },
  {
   "cell_type": "code",
   "execution_count": 2,
   "metadata": {},
   "outputs": [],
   "source": [
    "train_dir = 'E:/Jupyter NB/10 class Classification/Train_val_test/train'\n",
    "val_dir = 'E:/Jupyter NB/10 class Classification/Train_val_test/val'\n",
    "test_dir = 'E:/Jupyter NB/10 class Classification/Train_val_test/test'"
   ]
  },
  {
   "cell_type": "code",
   "execution_count": 3,
   "metadata": {},
   "outputs": [
    {
     "name": "stdout",
     "output_type": "stream",
     "text": [
      "Model: \"sequential_1\"\n",
      "_________________________________________________________________\n",
      "Layer (type)                 Output Shape              Param #   \n",
      "=================================================================\n",
      "conv2d_1 (Conv2D)            (None, 297, 297, 32)      896       \n",
      "_________________________________________________________________\n",
      "max_pooling2d_1 (MaxPooling2 (None, 148, 148, 32)      0         \n",
      "_________________________________________________________________\n",
      "conv2d_2 (Conv2D)            (None, 146, 146, 64)      18496     \n",
      "_________________________________________________________________\n",
      "max_pooling2d_2 (MaxPooling2 (None, 73, 73, 64)        0         \n",
      "_________________________________________________________________\n",
      "conv2d_3 (Conv2D)            (None, 71, 71, 128)       73856     \n",
      "_________________________________________________________________\n",
      "max_pooling2d_3 (MaxPooling2 (None, 35, 35, 128)       0         \n",
      "_________________________________________________________________\n",
      "conv2d_4 (Conv2D)            (None, 33, 33, 128)       147584    \n",
      "_________________________________________________________________\n",
      "max_pooling2d_4 (MaxPooling2 (None, 16, 16, 128)       0         \n",
      "_________________________________________________________________\n",
      "flatten_1 (Flatten)          (None, 32768)             0         \n",
      "_________________________________________________________________\n",
      "dense_1 (Dense)              (None, 512)               16777728  \n",
      "_________________________________________________________________\n",
      "dense_2 (Dense)              (None, 10)                5130      \n",
      "=================================================================\n",
      "Total params: 17,023,690\n",
      "Trainable params: 17,023,690\n",
      "Non-trainable params: 0\n",
      "_________________________________________________________________\n"
     ]
    }
   ],
   "source": [
    "model = models.Sequential()\n",
    "\n",
    "model.add(layers.Conv2D(32, (3, 3), activation='relu', input_shape=(299, 299, 3)))\n",
    "model.add(layers.MaxPooling2D((2, 2)))\n",
    "model.add(layers.Conv2D(64, (3, 3), activation='relu'))\n",
    "model.add(layers.MaxPooling2D((2, 2)))\n",
    "model.add(layers.Conv2D(128, (3, 3), activation='relu'))\n",
    "model.add(layers.MaxPooling2D((2, 2)))\n",
    "model.add(layers.Conv2D(128, (3, 3), activation='relu'))\n",
    "model.add(layers.MaxPooling2D((2, 2)))\n",
    "\n",
    "model.add(layers.Flatten())\n",
    "model.add(layers.Dense(512, activation='relu'))\n",
    "model.add(layers.Dense(10, activation='softmax'))\n",
    "\n",
    "model.summary()"
   ]
  },
  {
   "cell_type": "code",
   "execution_count": 4,
   "metadata": {},
   "outputs": [
    {
     "name": "stdout",
     "output_type": "stream",
     "text": [
      "Found 1233 images belonging to 10 classes.\n",
      "Found 200 images belonging to 10 classes.\n",
      "Found 200 images belonging to 10 classes.\n"
     ]
    }
   ],
   "source": [
    "train_datagen = ImageDataGenerator(rescale=1./255)\n",
    "val_datagen = ImageDataGenerator(rescale=1./255)\n",
    "test_datagen = ImageDataGenerator(rescale=1./255)\n",
    "\n",
    "train_generator = train_datagen.flow_from_directory(\n",
    "    train_dir,\n",
    "    target_size=(299, 299),\n",
    "    batch_size=20,\n",
    "    class_mode='categorical')\n",
    "\n",
    "validation_generator = val_datagen.flow_from_directory(\n",
    "    val_dir,\n",
    "    target_size=(299, 299),\n",
    "    batch_size=20,\n",
    "    class_mode='categorical')\n",
    "\n",
    "test_generator = test_datagen.flow_from_directory(\n",
    "    test_dir,\n",
    "    target_size=(299, 299),\n",
    "    batch_size=20,\n",
    "    class_mode='categorical')"
   ]
  },
  {
   "cell_type": "markdown",
   "metadata": {},
   "source": [
    "# Model Compilation"
   ]
  },
  {
   "cell_type": "code",
   "execution_count": 5,
   "metadata": {},
   "outputs": [],
   "source": [
    "from keras.losses import categorical_crossentropy as logloss\n",
    "from keras import backend as K\n",
    "\n",
    "def loss(y_true, y_pred):\n",
    "    entropy = -K.mean(K.sum(y_pred*K.log(y_pred), 1))\n",
    "    beta = 0.1\n",
    "    return logloss(y_true, y_pred) - beta*entropy"
   ]
  },
  {
   "cell_type": "code",
   "execution_count": 6,
   "metadata": {},
   "outputs": [],
   "source": [
    "from keras import optimizers\n",
    "\n",
    "model.compile(loss=loss,\n",
    "    optimizer=optimizers.SGD(lr=1e-2),\n",
    "    metrics=['categorical_crossentropy', 'accuracy'])"
   ]
  },
  {
   "cell_type": "markdown",
   "metadata": {},
   "source": [
    "# Training"
   ]
  },
  {
   "cell_type": "code",
   "execution_count": 7,
   "metadata": {},
   "outputs": [
    {
     "name": "stdout",
     "output_type": "stream",
     "text": [
      "Epoch 1/15\n",
      "100/100 [==============================] - 38s 377ms/step - loss: 1.9566 - categorical_crossentropy: 2.1784 - accuracy: 0.2464 - val_loss: 2.1685 - val_categorical_crossentropy: 2.2051 - val_accuracy: 0.2000\n",
      "Epoch 2/15\n",
      "100/100 [==============================] - 32s 320ms/step - loss: 1.7534 - categorical_crossentropy: 1.9607 - accuracy: 0.3600 - val_loss: 2.0154 - val_categorical_crossentropy: 2.0602 - val_accuracy: 0.2200\n",
      "Epoch 3/15\n",
      "100/100 [==============================] - 32s 320ms/step - loss: 1.5456 - categorical_crossentropy: 1.7311 - accuracy: 0.4426 - val_loss: 1.8416 - val_categorical_crossentropy: 1.8096 - val_accuracy: 0.3450\n",
      "Epoch 4/15\n",
      "100/100 [==============================] - 32s 321ms/step - loss: 1.3957 - categorical_crossentropy: 1.5686 - accuracy: 0.4862 - val_loss: 1.7030 - val_categorical_crossentropy: 1.7601 - val_accuracy: 0.4050\n",
      "Epoch 5/15\n",
      "100/100 [==============================] - 32s 319ms/step - loss: 1.2911 - categorical_crossentropy: 1.4555 - accuracy: 0.5387 - val_loss: 1.6663 - val_categorical_crossentropy: 1.6777 - val_accuracy: 0.3950\n",
      "Epoch 6/15\n",
      "100/100 [==============================] - 32s 321ms/step - loss: 1.0882 - categorical_crossentropy: 1.2332 - accuracy: 0.6170 - val_loss: 0.7550 - val_categorical_crossentropy: 1.4101 - val_accuracy: 0.5350\n",
      "Epoch 7/15\n",
      "100/100 [==============================] - 37s 373ms/step - loss: 1.0376 - categorical_crossentropy: 1.1741 - accuracy: 0.6377 - val_loss: 0.9466 - val_categorical_crossentropy: 1.3893 - val_accuracy: 0.5200\n",
      "Epoch 8/15\n",
      "100/100 [==============================] - 45s 450ms/step - loss: 0.8168 - categorical_crossentropy: 0.9324 - accuracy: 0.7120 - val_loss: 1.1071 - val_categorical_crossentropy: 1.4727 - val_accuracy: 0.5050\n",
      "Epoch 9/15\n",
      "100/100 [==============================] - 46s 465ms/step - loss: 0.6061 - categorical_crossentropy: 0.6973 - accuracy: 0.7852 - val_loss: 0.8358 - val_categorical_crossentropy: 1.5610 - val_accuracy: 0.4500\n",
      "Epoch 10/15\n",
      "100/100 [==============================] - 61s 607ms/step - loss: 0.4778 - categorical_crossentropy: 0.5558 - accuracy: 0.8414 - val_loss: 0.5086 - val_categorical_crossentropy: 1.5229 - val_accuracy: 0.5450\n",
      "Epoch 11/15\n",
      "100/100 [==============================] - 61s 610ms/step - loss: 0.2049 - categorical_crossentropy: 0.2490 - accuracy: 0.9413 - val_loss: 0.6191 - val_categorical_crossentropy: 1.5644 - val_accuracy: 0.5700\n",
      "Epoch 12/15\n",
      "100/100 [==============================] - 61s 608ms/step - loss: 0.2092 - categorical_crossentropy: 0.2462 - accuracy: 0.9441 - val_loss: 2.4401 - val_categorical_crossentropy: 1.8517 - val_accuracy: 0.5550\n",
      "Epoch 13/15\n",
      "100/100 [==============================] - 61s 608ms/step - loss: 0.0332 - categorical_crossentropy: 0.0466 - accuracy: 0.9919 - val_loss: 1.7218 - val_categorical_crossentropy: 1.9783 - val_accuracy: 0.5550\n",
      "Epoch 14/15\n",
      "100/100 [==============================] - 61s 608ms/step - loss: 0.0109 - categorical_crossentropy: 0.0179 - accuracy: 0.9990 - val_loss: 3.3959 - val_categorical_crossentropy: 2.2641 - val_accuracy: 0.5350\n",
      "Epoch 15/15\n",
      "100/100 [==============================] - 61s 610ms/step - loss: 0.0077 - categorical_crossentropy: 0.0127 - accuracy: 0.9985 - val_loss: 2.2500 - val_categorical_crossentropy: 2.3801 - val_accuracy: 0.5300\n"
     ]
    }
   ],
   "source": [
    "history = model.fit_generator(\n",
    "    train_generator,\n",
    "    steps_per_epoch=100,\n",
    "    epochs=15,\n",
    "    validation_data=validation_generator,\n",
    "    validation_steps=50)"
   ]
  },
  {
   "cell_type": "code",
   "execution_count": 12,
   "metadata": {},
   "outputs": [],
   "source": [
    "model.save_weights('teacher_weights.hdf5')"
   ]
  },
  {
   "cell_type": "code",
   "execution_count": 13,
   "metadata": {},
   "outputs": [
    {
     "data": {
      "text/plain": [
       "'\\nSTEP_SIZE_TEST=test_generator.n//test_generator.batch_size\\ntest_generator.reset()\\npred=model.predict_generator(test_generator,\\nsteps=STEP_SIZE_TEST,\\nverbose=1)\\n'"
      ]
     },
     "execution_count": 13,
     "metadata": {},
     "output_type": "execute_result"
    }
   ],
   "source": [
    "'''\n",
    "STEP_SIZE_TEST=test_generator.n//test_generator.batch_size\n",
    "test_generator.reset()\n",
    "pred=model.predict_generator(test_generator,\n",
    "steps=STEP_SIZE_TEST,\n",
    "verbose=1)\n",
    "'''"
   ]
  },
  {
   "cell_type": "code",
   "execution_count": 14,
   "metadata": {},
   "outputs": [
    {
     "data": {
      "text/plain": [
       "'\\nSTEP_SIZE_TEST=train_generator.n//train_generator.batch_size\\ntrain_generator.reset()\\npred=model.predict_generator(train_generator,\\n    steps=STEP_SIZE_TEST,\\n    verbose=1)\\n'"
      ]
     },
     "execution_count": 14,
     "metadata": {},
     "output_type": "execute_result"
    }
   ],
   "source": [
    "'''\n",
    "STEP_SIZE_TEST=train_generator.n//train_generator.batch_size\n",
    "train_generator.reset()\n",
    "pred=model.predict_generator(train_generator,\n",
    "    steps=STEP_SIZE_TEST,\n",
    "    verbose=1)\n",
    "'''"
   ]
  },
  {
   "cell_type": "code",
   "execution_count": null,
   "metadata": {},
   "outputs": [],
   "source": []
  }
 ],
 "metadata": {
  "kernelspec": {
   "display_name": "Python 3.7 (tensorflow)",
   "language": "python",
   "name": "tensorflow"
  },
  "language_info": {
   "codemirror_mode": {
    "name": "ipython",
    "version": 3
   },
   "file_extension": ".py",
   "mimetype": "text/x-python",
   "name": "python",
   "nbconvert_exporter": "python",
   "pygments_lexer": "ipython3",
   "version": "3.7.7"
  }
 },
 "nbformat": 4,
 "nbformat_minor": 4
}
