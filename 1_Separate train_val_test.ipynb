{
 "cells": [
  {
   "cell_type": "code",
   "execution_count": 72,
   "metadata": {},
   "outputs": [],
   "source": [
    "import numpy as np\n",
    "import pandas as pd\n",
    "from scipy import misc\n",
    "\n",
    "import os\n",
    "import shutil\n",
    "from tqdm import tqdm \n",
    "\n",
    "from PIL import Image"
   ]
  },
  {
   "cell_type": "code",
   "execution_count": 73,
   "metadata": {},
   "outputs": [],
   "source": [
    "# the folder for images\n",
    "dir_train = 'E:/Jupyter NB/10 class Classification/Images'\n",
    "\n",
    "image_dir = 'E:/Jupyter NB/10 class Classification/Train_val_test'"
   ]
  },
  {
   "cell_type": "markdown",
   "metadata": {},
   "source": [
    "# This cell is for testing"
   ]
  },
  {
   "cell_type": "code",
   "execution_count": 74,
   "metadata": {},
   "outputs": [
    {
     "name": "stderr",
     "output_type": "stream",
     "text": [
      "100%|██████████████████████████████████████████████████████████████████████████████████████████| 10/10 [00:00<?, ?it/s]"
     ]
    },
    {
     "name": "stdout",
     "output_type": "stream",
     "text": [
      "---root---\n",
      "E:/Jupyter NB/10 class Classification/Images\n",
      "---dirs---\n",
      "['01.backpack', '02.bathtub', '03.billiards', '04.binoculars', '05.bonsai-101', '06.boxing-glove', '07.breadmaker', '08.chess-board', '09.cockroach', '10.coin']\n",
      "---files---\n",
      "[]\n",
      "---------------------\n",
      "---root---\n",
      "E:/Jupyter NB/10 class Classification/Images\\01.backpack\n",
      "---dirs---\n",
      "[]\n",
      "---files---\n",
      "['003_0001.jpg', '003_0002.jpg', '003_0003.jpg', '003_0004.jpg', '003_0005.jpg', '003_0006.jpg', '003_0007.jpg', '003_0008.jpg', '003_0009.jpg', '003_0010.jpg', '003_0011.jpg', '003_0012.jpg', '003_0013.jpg', '003_0014.jpg', '003_0015.jpg', '003_0016.jpg', '003_0017.jpg', '003_0018.jpg', '003_0019.jpg', '003_0020.jpg', '003_0021.jpg', '003_0022.jpg', '003_0023.jpg', '003_0024.jpg', '003_0025.jpg', '003_0026.jpg', '003_0027.jpg', '003_0028.jpg', '003_0029.jpg', '003_0030.jpg', '003_0031.jpg', '003_0032.jpg', '003_0033.jpg', '003_0034.jpg', '003_0035.jpg', '003_0036.jpg', '003_0037.jpg', '003_0038.jpg', '003_0039.jpg', '003_0040.jpg', '003_0041.jpg', '003_0042.jpg', '003_0043.jpg', '003_0044.jpg', '003_0045.jpg', '003_0046.jpg', '003_0047.jpg', '003_0048.jpg', '003_0049.jpg', '003_0050.jpg', '003_0051.jpg', '003_0052.jpg', '003_0053.jpg', '003_0054.jpg', '003_0055.jpg', '003_0056.jpg', '003_0057.jpg', '003_0058.jpg', '003_0059.jpg', '003_0060.jpg', '003_0061.jpg', '003_0062.jpg', '003_0063.jpg', '003_0064.jpg', '003_0065.jpg', '003_0066.jpg', '003_0067.jpg', '003_0068.jpg', '003_0069.jpg', '003_0070.jpg', '003_0071.jpg', '003_0072.jpg', '003_0073.jpg', '003_0074.jpg', '003_0075.jpg', '003_0076.jpg', '003_0077.jpg', '003_0078.jpg', '003_0079.jpg', '003_0080.jpg', '003_0081.jpg', '003_0082.jpg', '003_0083.jpg', '003_0084.jpg', '003_0085.jpg', '003_0086.jpg', '003_0087.jpg', '003_0088.jpg', '003_0089.jpg', '003_0090.jpg', '003_0091.jpg', '003_0092.jpg', '003_0093.jpg', '003_0094.jpg', '003_0095.jpg', '003_0096.jpg', '003_0097.jpg', '003_0098.jpg', '003_0099.jpg', '003_0100.jpg', '003_0101.jpg', '003_0102.jpg', '003_0103.jpg', '003_0104.jpg', '003_0105.jpg', '003_0106.jpg', '003_0107.jpg', '003_0108.jpg', '003_0109.jpg', '003_0110.jpg', '003_0111.jpg', '003_0112.jpg', '003_0113.jpg', '003_0114.jpg', '003_0115.jpg', '003_0116.jpg', '003_0117.jpg', '003_0118.jpg', '003_0119.jpg', '003_0120.jpg', '003_0121.jpg', '003_0122.jpg', '003_0123.jpg', '003_0124.jpg', '003_0125.jpg', '003_0126.jpg', '003_0127.jpg', '003_0128.jpg', '003_0129.jpg', '003_0130.jpg', '003_0131.jpg', '003_0132.jpg', '003_0133.jpg', '003_0134.jpg', '003_0135.jpg', '003_0136.jpg', '003_0137.jpg', '003_0138.jpg', '003_0139.jpg', '003_0140.jpg', '003_0141.jpg', '003_0142.jpg', '003_0143.jpg', '003_0144.jpg', '003_0145.jpg', '003_0146.jpg', '003_0147.jpg', '003_0148.jpg', '003_0149.jpg', '003_0150.jpg', '003_0151.jpg']\n",
      "---------------------\n",
      "---root---\n",
      "E:/Jupyter NB/10 class Classification/Images\\02.bathtub\n",
      "---dirs---\n",
      "[]\n",
      "---files---\n",
      "['008_0001.jpg', '008_0002.jpg', '008_0003.jpg', '008_0004.jpg', '008_0005.jpg', '008_0006.jpg', '008_0007.jpg', '008_0008.jpg', '008_0009.jpg', '008_0010.jpg', '008_0011.jpg', '008_0012.jpg', '008_0013.jpg', '008_0014.jpg', '008_0015.jpg', '008_0016.jpg', '008_0017.jpg', '008_0018.jpg', '008_0019.jpg', '008_0020.jpg', '008_0021.jpg', '008_0022.jpg', '008_0023.jpg', '008_0024.jpg', '008_0025.jpg', '008_0026.jpg', '008_0027.jpg', '008_0028.jpg', '008_0029.jpg', '008_0030.jpg', '008_0031.jpg', '008_0032.jpg', '008_0033.jpg', '008_0034.jpg', '008_0035.jpg', '008_0036.jpg', '008_0037.jpg', '008_0038.jpg', '008_0039.jpg', '008_0040.jpg', '008_0041.jpg', '008_0042.jpg', '008_0043.jpg', '008_0044.jpg', '008_0045.jpg', '008_0046.jpg', '008_0047.jpg', '008_0048.jpg', '008_0049.jpg', '008_0050.jpg', '008_0051.jpg', '008_0052.jpg', '008_0053.jpg', '008_0054.jpg', '008_0055.jpg', '008_0056.jpg', '008_0057.jpg', '008_0058.jpg', '008_0059.jpg', '008_0060.jpg', '008_0061.jpg', '008_0062.jpg', '008_0063.jpg', '008_0064.jpg', '008_0065.jpg', '008_0066.jpg', '008_0067.jpg', '008_0068.jpg', '008_0069.jpg', '008_0070.jpg', '008_0071.jpg', '008_0072.jpg', '008_0073.jpg', '008_0074.jpg', '008_0075.jpg', '008_0076.jpg', '008_0077.jpg', '008_0078.jpg', '008_0079.jpg', '008_0080.jpg', '008_0081.jpg', '008_0082.jpg', '008_0083.jpg', '008_0084.jpg', '008_0085.jpg', '008_0086.jpg', '008_0087.jpg', '008_0088.jpg', '008_0089.jpg', '008_0090.jpg', '008_0091.jpg', '008_0092.jpg', '008_0093.jpg', '008_0094.jpg', '008_0095.jpg', '008_0096.jpg', '008_0097.jpg', '008_0098.jpg', '008_0099.jpg', '008_0100.jpg', '008_0101.jpg', '008_0102.jpg', '008_0103.jpg', '008_0104.jpg', '008_0105.jpg', '008_0106.jpg', '008_0107.jpg', '008_0108.jpg', '008_0109.jpg', '008_0110.jpg', '008_0111.jpg', '008_0112.jpg', '008_0113.jpg', '008_0114.jpg', '008_0115.jpg', '008_0116.jpg', '008_0117.jpg', '008_0118.jpg', '008_0119.jpg', '008_0120.jpg', '008_0121.jpg', '008_0122.jpg', '008_0123.jpg', '008_0124.jpg', '008_0125.jpg', '008_0126.jpg', '008_0127.jpg', '008_0128.jpg', '008_0129.jpg', '008_0130.jpg', '008_0131.jpg', '008_0132.jpg', '008_0133.jpg', '008_0134.jpg', '008_0135.jpg', '008_0136.jpg', '008_0137.jpg', '008_0138.jpg', '008_0139.jpg', '008_0140.jpg', '008_0141.jpg', '008_0142.jpg', '008_0143.jpg', '008_0144.jpg', '008_0145.jpg', '008_0146.jpg', '008_0147.jpg', '008_0148.jpg', '008_0149.jpg', '008_0150.jpg', '008_0151.jpg', '008_0152.jpg', '008_0153.jpg', '008_0154.jpg', '008_0155.jpg', '008_0156.jpg', '008_0157.jpg', '008_0158.jpg', '008_0159.jpg', '008_0160.jpg', '008_0161.jpg', '008_0162.jpg', '008_0163.jpg', '008_0164.jpg', '008_0165.jpg', '008_0166.jpg', '008_0167.jpg', '008_0168.jpg', '008_0169.jpg', '008_0170.jpg', '008_0171.jpg', '008_0172.jpg', '008_0173.jpg', '008_0174.jpg', '008_0175.jpg', '008_0176.jpg', '008_0177.jpg', '008_0178.jpg', '008_0179.jpg', '008_0180.jpg', '008_0181.jpg', '008_0182.jpg', '008_0183.jpg', '008_0184.jpg', '008_0185.jpg', '008_0186.jpg', '008_0187.jpg', '008_0188.jpg', '008_0189.jpg', '008_0190.jpg', '008_0191.jpg', '008_0192.jpg', '008_0193.jpg', '008_0194.jpg', '008_0195.jpg', '008_0196.jpg', '008_0197.jpg', '008_0198.jpg', '008_0199.jpg', '008_0200.jpg', '008_0201.jpg', '008_0202.jpg', '008_0203.jpg', '008_0204.jpg', '008_0205.jpg', '008_0206.jpg', '008_0207.jpg', '008_0208.jpg', '008_0209.jpg', '008_0210.jpg', '008_0211.jpg', '008_0212.jpg', '008_0213.jpg', '008_0214.jpg', '008_0215.jpg', '008_0216.jpg', '008_0217.jpg', '008_0218.jpg', '008_0219.jpg', '008_0220.jpg', '008_0221.jpg', '008_0222.jpg', '008_0223.jpg', '008_0224.jpg', '008_0225.jpg', '008_0226.jpg', '008_0227.jpg', '008_0228.jpg', '008_0229.jpg', '008_0230.jpg', '008_0231.jpg', '008_0232.jpg']\n",
      "---------------------\n",
      "---root---\n",
      "E:/Jupyter NB/10 class Classification/Images\\03.billiards\n",
      "---dirs---\n",
      "[]\n",
      "---files---\n",
      "['011_0001.jpg', '011_0002.jpg', '011_0003.jpg', '011_0004.jpg', '011_0005.jpg', '011_0006.jpg', '011_0007.jpg', '011_0008.jpg', '011_0009.jpg', '011_0010.jpg', '011_0011.jpg', '011_0012.jpg', '011_0013.jpg', '011_0014.jpg', '011_0015.jpg', '011_0016.jpg', '011_0017.jpg', '011_0018.jpg', '011_0019.jpg', '011_0020.jpg', '011_0021.jpg', '011_0022.jpg', '011_0023.jpg', '011_0024.jpg', '011_0025.jpg', '011_0026.jpg', '011_0027.jpg', '011_0028.jpg', '011_0029.jpg', '011_0030.jpg', '011_0031.jpg', '011_0032.jpg', '011_0033.jpg', '011_0034.jpg', '011_0035.jpg', '011_0036.jpg', '011_0037.jpg', '011_0038.jpg', '011_0039.jpg', '011_0040.jpg', '011_0041.jpg', '011_0042.jpg', '011_0043.jpg', '011_0044.jpg', '011_0045.jpg', '011_0046.jpg', '011_0047.jpg', '011_0048.jpg', '011_0049.jpg', '011_0050.jpg', '011_0051.jpg', '011_0052.jpg', '011_0053.jpg', '011_0054.jpg', '011_0055.jpg', '011_0056.jpg', '011_0057.jpg', '011_0058.jpg', '011_0059.jpg', '011_0060.jpg', '011_0061.jpg', '011_0062.jpg', '011_0063.jpg', '011_0064.jpg', '011_0065.jpg', '011_0066.jpg', '011_0067.jpg', '011_0068.jpg', '011_0069.jpg', '011_0070.jpg', '011_0071.jpg', '011_0072.jpg', '011_0073.jpg', '011_0074.jpg', '011_0075.jpg', '011_0076.jpg', '011_0077.jpg', '011_0078.jpg', '011_0079.jpg', '011_0080.jpg', '011_0081.jpg', '011_0082.jpg', '011_0083.jpg', '011_0084.jpg', '011_0085.jpg', '011_0086.jpg', '011_0087.jpg', '011_0088.jpg', '011_0089.jpg', '011_0090.jpg', '011_0091.jpg', '011_0092.jpg', '011_0093.jpg', '011_0094.jpg', '011_0095.jpg', '011_0096.jpg', '011_0097.jpg', '011_0098.jpg', '011_0099.jpg', '011_0100.jpg', '011_0101.jpg', '011_0102.jpg', '011_0103.jpg', '011_0104.jpg', '011_0105.jpg', '011_0106.jpg', '011_0107.jpg', '011_0108.jpg', '011_0109.jpg', '011_0110.jpg', '011_0111.jpg', '011_0112.jpg', '011_0113.jpg', '011_0114.jpg', '011_0115.jpg', '011_0116.jpg', '011_0117.jpg', '011_0118.jpg', '011_0119.jpg', '011_0120.jpg', '011_0121.jpg', '011_0122.jpg', '011_0123.jpg', '011_0124.jpg', '011_0125.jpg', '011_0126.jpg', '011_0127.jpg', '011_0128.jpg', '011_0129.jpg', '011_0130.jpg', '011_0131.jpg', '011_0132.jpg', '011_0133.jpg', '011_0134.jpg', '011_0135.jpg', '011_0136.jpg', '011_0137.jpg', '011_0138.jpg', '011_0139.jpg', '011_0140.jpg', '011_0141.jpg', '011_0142.jpg', '011_0143.jpg', '011_0144.jpg', '011_0145.jpg', '011_0146.jpg', '011_0147.jpg', '011_0148.jpg', '011_0149.jpg', '011_0150.jpg', '011_0151.jpg', '011_0152.jpg', '011_0153.jpg', '011_0154.jpg', '011_0155.jpg', '011_0156.jpg', '011_0157.jpg', '011_0158.jpg', '011_0159.jpg', '011_0160.jpg', '011_0161.jpg', '011_0162.jpg', '011_0163.jpg', '011_0164.jpg', '011_0165.jpg', '011_0166.jpg', '011_0167.jpg', '011_0168.jpg', '011_0169.jpg', '011_0170.jpg', '011_0171.jpg', '011_0172.jpg', '011_0173.jpg', '011_0174.jpg', '011_0175.jpg', '011_0176.jpg', '011_0177.jpg', '011_0178.jpg', '011_0179.jpg', '011_0180.jpg', '011_0181.jpg', '011_0182.jpg', '011_0183.jpg', '011_0184.jpg', '011_0185.jpg', '011_0186.jpg', '011_0187.jpg', '011_0188.jpg', '011_0189.jpg', '011_0190.jpg', '011_0191.jpg', '011_0192.jpg', '011_0193.jpg', '011_0194.jpg', '011_0195.jpg', '011_0196.jpg', '011_0197.jpg', '011_0198.jpg', '011_0199.jpg', '011_0200.jpg', '011_0201.jpg', '011_0202.jpg', '011_0203.jpg', '011_0204.jpg', '011_0205.jpg', '011_0206.jpg', '011_0207.jpg', '011_0208.jpg', '011_0209.jpg', '011_0210.jpg', '011_0211.jpg', '011_0212.jpg', '011_0213.jpg', '011_0214.jpg', '011_0215.jpg', '011_0216.jpg', '011_0217.jpg', '011_0218.jpg', '011_0219.jpg', '011_0220.jpg', '011_0221.jpg', '011_0222.jpg', '011_0223.jpg', '011_0224.jpg', '011_0225.jpg', '011_0226.jpg', '011_0227.jpg', '011_0228.jpg', '011_0229.jpg', '011_0230.jpg', '011_0231.jpg', '011_0232.jpg', '011_0233.jpg', '011_0234.jpg', '011_0235.jpg', '011_0236.jpg', '011_0237.jpg', '011_0238.jpg', '011_0239.jpg', '011_0240.jpg', '011_0241.jpg', '011_0242.jpg', '011_0243.jpg', '011_0244.jpg', '011_0245.jpg', '011_0246.jpg', '011_0247.jpg', '011_0248.jpg', '011_0249.jpg', '011_0250.jpg', '011_0251.jpg', '011_0252.jpg', '011_0253.jpg', '011_0254.jpg', '011_0255.jpg', '011_0256.jpg', '011_0257.jpg', '011_0258.jpg', '011_0259.jpg', '011_0260.jpg', '011_0261.jpg', '011_0262.jpg', '011_0263.jpg', '011_0264.jpg', '011_0265.jpg', '011_0266.jpg', '011_0267.jpg', '011_0268.jpg', '011_0269.jpg', '011_0270.jpg', '011_0271.jpg', '011_0272.jpg', '011_0273.jpg', '011_0274.jpg', '011_0275.jpg', '011_0276.jpg', '011_0277.jpg', '011_0278.jpg']\n",
      "---------------------\n",
      "---root---\n",
      "E:/Jupyter NB/10 class Classification/Images\\04.binoculars\n",
      "---dirs---\n",
      "[]\n",
      "---files---\n",
      "['012_0001.jpg', '012_0002.jpg', '012_0003.jpg', '012_0004.jpg', '012_0005.jpg', '012_0006.jpg', '012_0007.jpg', '012_0008.jpg', '012_0009.jpg', '012_0010.jpg', '012_0011.jpg', '012_0012.jpg', '012_0013.jpg', '012_0014.jpg', '012_0015.jpg', '012_0016.jpg', '012_0017.jpg', '012_0018.jpg', '012_0019.jpg', '012_0020.jpg', '012_0021.jpg', '012_0022.jpg', '012_0023.jpg', '012_0024.jpg', '012_0025.jpg', '012_0026.jpg', '012_0027.jpg', '012_0028.jpg', '012_0029.jpg', '012_0030.jpg', '012_0031.jpg', '012_0032.jpg', '012_0033.jpg', '012_0034.jpg', '012_0035.jpg', '012_0036.jpg', '012_0037.jpg', '012_0038.jpg', '012_0039.jpg', '012_0040.jpg', '012_0041.jpg', '012_0042.jpg', '012_0043.jpg', '012_0044.jpg', '012_0045.jpg', '012_0046.jpg', '012_0047.jpg', '012_0048.jpg', '012_0049.jpg', '012_0050.jpg', '012_0051.jpg', '012_0052.jpg', '012_0053.jpg', '012_0054.jpg', '012_0055.jpg', '012_0056.jpg', '012_0057.jpg', '012_0058.jpg', '012_0059.jpg', '012_0060.jpg', '012_0061.jpg', '012_0062.jpg', '012_0063.jpg', '012_0064.jpg', '012_0065.jpg', '012_0066.jpg', '012_0067.jpg', '012_0068.jpg', '012_0069.jpg', '012_0070.jpg', '012_0071.jpg', '012_0072.jpg', '012_0073.jpg', '012_0074.jpg', '012_0075.jpg', '012_0076.jpg', '012_0077.jpg', '012_0078.jpg', '012_0079.jpg', '012_0080.jpg', '012_0081.jpg', '012_0082.jpg', '012_0083.jpg', '012_0084.jpg', '012_0085.jpg', '012_0086.jpg', '012_0087.jpg', '012_0088.jpg', '012_0089.jpg', '012_0090.jpg', '012_0091.jpg', '012_0092.jpg', '012_0093.jpg', '012_0094.jpg', '012_0095.jpg', '012_0096.jpg', '012_0097.jpg', '012_0098.jpg', '012_0099.jpg', '012_0100.jpg', '012_0101.jpg', '012_0102.jpg', '012_0103.jpg', '012_0104.jpg', '012_0105.jpg', '012_0106.jpg', '012_0107.jpg', '012_0108.jpg', '012_0109.jpg', '012_0110.jpg', '012_0111.jpg', '012_0112.jpg', '012_0113.jpg', '012_0114.jpg', '012_0115.jpg', '012_0116.jpg', '012_0117.jpg', '012_0118.jpg', '012_0119.jpg', '012_0120.jpg', '012_0121.jpg', '012_0122.jpg', '012_0123.jpg', '012_0124.jpg', '012_0125.jpg', '012_0126.jpg', '012_0127.jpg', '012_0128.jpg', '012_0129.jpg', '012_0130.jpg', '012_0131.jpg', '012_0132.jpg', '012_0133.jpg', '012_0134.jpg', '012_0135.jpg', '012_0136.jpg', '012_0137.jpg', '012_0138.jpg', '012_0139.jpg', '012_0140.jpg', '012_0141.jpg', '012_0142.jpg', '012_0143.jpg', '012_0144.jpg', '012_0145.jpg', '012_0146.jpg', '012_0147.jpg', '012_0148.jpg', '012_0149.jpg', '012_0150.jpg', '012_0151.jpg', '012_0152.jpg', '012_0153.jpg', '012_0154.jpg', '012_0155.jpg', '012_0156.jpg', '012_0157.jpg', '012_0158.jpg', '012_0159.jpg', '012_0160.jpg', '012_0161.jpg', '012_0162.jpg', '012_0163.jpg', '012_0164.jpg', '012_0165.jpg', '012_0166.jpg', '012_0167.jpg', '012_0168.jpg', '012_0169.jpg', '012_0170.jpg', '012_0171.jpg', '012_0172.jpg', '012_0173.jpg', '012_0174.jpg', '012_0175.jpg', '012_0176.jpg', '012_0177.jpg', '012_0178.jpg', '012_0179.jpg', '012_0180.jpg', '012_0181.jpg', '012_0182.jpg', '012_0183.jpg', '012_0184.jpg', '012_0185.jpg', '012_0186.jpg', '012_0187.jpg', '012_0188.jpg', '012_0189.jpg', '012_0190.jpg', '012_0191.jpg', '012_0192.jpg', '012_0193.jpg', '012_0194.jpg', '012_0195.jpg', '012_0196.jpg', '012_0197.jpg', '012_0198.jpg', '012_0199.jpg', '012_0200.jpg', '012_0201.jpg', '012_0202.jpg', '012_0203.jpg', '012_0204.jpg', '012_0205.jpg', '012_0206.jpg', '012_0207.jpg', '012_0208.jpg', '012_0209.jpg', '012_0210.jpg', '012_0211.jpg', '012_0212.jpg', '012_0213.jpg', '012_0214.jpg', '012_0215.jpg', '012_0216.jpg']\n",
      "---------------------\n",
      "---root---\n",
      "E:/Jupyter NB/10 class Classification/Images\\05.bonsai-101\n",
      "---dirs---\n",
      "[]\n",
      "---files---\n",
      "['015_0001.jpg', '015_0002.jpg', '015_0003.jpg', '015_0004.jpg', '015_0005.jpg', '015_0006.jpg', '015_0007.jpg', '015_0008.jpg', '015_0009.jpg', '015_0010.jpg', '015_0011.jpg', '015_0012.jpg', '015_0013.jpg', '015_0014.jpg', '015_0015.jpg', '015_0016.jpg', '015_0017.jpg', '015_0018.jpg', '015_0019.jpg', '015_0020.jpg', '015_0021.jpg', '015_0022.jpg', '015_0023.jpg', '015_0024.jpg', '015_0025.jpg', '015_0026.jpg', '015_0027.jpg', '015_0028.jpg', '015_0029.jpg', '015_0030.jpg', '015_0031.jpg', '015_0032.jpg', '015_0033.jpg', '015_0034.jpg', '015_0035.jpg', '015_0036.jpg', '015_0037.jpg', '015_0038.jpg', '015_0039.jpg', '015_0040.jpg', '015_0041.jpg', '015_0042.jpg', '015_0043.jpg', '015_0044.jpg', '015_0045.jpg', '015_0046.jpg', '015_0047.jpg', '015_0048.jpg', '015_0049.jpg', '015_0050.jpg', '015_0051.jpg', '015_0052.jpg', '015_0053.jpg', '015_0054.jpg', '015_0055.jpg', '015_0056.jpg', '015_0057.jpg', '015_0058.jpg', '015_0059.jpg', '015_0060.jpg', '015_0061.jpg', '015_0062.jpg', '015_0063.jpg', '015_0064.jpg', '015_0065.jpg', '015_0066.jpg', '015_0067.jpg', '015_0068.jpg', '015_0069.jpg', '015_0070.jpg', '015_0071.jpg', '015_0072.jpg', '015_0073.jpg', '015_0074.jpg', '015_0075.jpg', '015_0076.jpg', '015_0077.jpg', '015_0078.jpg', '015_0079.jpg', '015_0080.jpg', '015_0081.jpg', '015_0082.jpg', '015_0083.jpg', '015_0084.jpg', '015_0085.jpg', '015_0086.jpg', '015_0087.jpg', '015_0088.jpg', '015_0089.jpg', '015_0090.jpg', '015_0091.jpg', '015_0092.jpg', '015_0093.jpg', '015_0094.jpg', '015_0095.jpg', '015_0096.jpg', '015_0097.jpg', '015_0098.jpg', '015_0099.jpg', '015_0100.jpg', '015_0101.jpg', '015_0102.jpg', '015_0103.jpg', '015_0104.jpg', '015_0105.jpg', '015_0106.jpg', '015_0107.jpg', '015_0108.jpg', '015_0109.jpg', '015_0110.jpg', '015_0111.jpg', '015_0112.jpg', '015_0113.jpg', '015_0114.jpg', '015_0115.jpg', '015_0116.jpg', '015_0117.jpg', '015_0118.jpg', '015_0119.jpg', '015_0120.jpg', '015_0121.jpg', '015_0122.jpg']\n",
      "---------------------\n",
      "---root---\n",
      "E:/Jupyter NB/10 class Classification/Images\\06.boxing-glove\n",
      "---dirs---\n",
      "[]\n",
      "---files---\n",
      "['019_0001.jpg', '019_0002.jpg', '019_0003.jpg', '019_0004.jpg', '019_0005.jpg', '019_0006.jpg', '019_0007.jpg', '019_0008.jpg', '019_0009.jpg', '019_0010.jpg', '019_0011.jpg', '019_0012.jpg', '019_0013.jpg', '019_0014.jpg', '019_0015.jpg', '019_0016.jpg', '019_0017.jpg', '019_0018.jpg', '019_0019.jpg', '019_0020.jpg', '019_0021.jpg', '019_0022.jpg', '019_0023.jpg', '019_0024.jpg', '019_0025.jpg', '019_0026.jpg', '019_0027.jpg', '019_0028.jpg', '019_0029.jpg', '019_0030.jpg', '019_0031.jpg', '019_0032.jpg', '019_0033.jpg', '019_0034.jpg', '019_0035.jpg', '019_0036.jpg', '019_0037.jpg', '019_0038.jpg', '019_0039.jpg', '019_0040.jpg', '019_0041.jpg', '019_0042.jpg', '019_0043.jpg', '019_0044.jpg', '019_0045.jpg', '019_0046.jpg', '019_0047.jpg', '019_0048.jpg', '019_0049.jpg', '019_0050.jpg', '019_0051.jpg', '019_0052.jpg', '019_0053.jpg', '019_0054.jpg', '019_0055.jpg', '019_0056.jpg', '019_0057.jpg', '019_0058.jpg', '019_0059.jpg', '019_0060.jpg', '019_0061.jpg', '019_0062.jpg', '019_0063.jpg', '019_0064.jpg', '019_0065.jpg', '019_0066.jpg', '019_0067.jpg', '019_0068.jpg', '019_0069.jpg', '019_0070.jpg', '019_0071.jpg', '019_0072.jpg', '019_0073.jpg', '019_0074.jpg', '019_0075.jpg', '019_0076.jpg', '019_0077.jpg', '019_0078.jpg', '019_0079.jpg', '019_0080.jpg', '019_0081.jpg', '019_0082.jpg', '019_0083.jpg', '019_0084.jpg', '019_0085.jpg', '019_0086.jpg', '019_0087.jpg', '019_0088.jpg', '019_0089.jpg', '019_0090.jpg', '019_0091.jpg', '019_0092.jpg', '019_0093.jpg', '019_0094.jpg', '019_0095.jpg', '019_0096.jpg', '019_0097.jpg', '019_0098.jpg', '019_0099.jpg', '019_0100.jpg', '019_0101.jpg', '019_0102.jpg', '019_0103.jpg', '019_0104.jpg', '019_0105.jpg', '019_0106.jpg', '019_0107.jpg', '019_0108.jpg', '019_0109.jpg', '019_0110.jpg', '019_0111.jpg', '019_0112.jpg', '019_0113.jpg', '019_0114.jpg', '019_0115.jpg', '019_0116.jpg', '019_0117.jpg', '019_0118.jpg', '019_0119.jpg', '019_0120.jpg', '019_0121.jpg', '019_0122.jpg', '019_0123.jpg', '019_0124.jpg']\n",
      "---------------------\n",
      "---root---\n",
      "E:/Jupyter NB/10 class Classification/Images\\07.breadmaker\n",
      "---dirs---\n",
      "[]\n",
      "---files---\n",
      "['021_0001.jpg', '021_0002.jpg', '021_0003.jpg', '021_0004.jpg', '021_0005.jpg', '021_0006.jpg', '021_0007.jpg', '021_0008.jpg', '021_0009.jpg', '021_0010.jpg', '021_0011.jpg', '021_0012.jpg', '021_0013.jpg', '021_0014.jpg', '021_0015.jpg', '021_0016.jpg', '021_0017.jpg', '021_0018.jpg', '021_0019.jpg', '021_0020.jpg', '021_0021.jpg', '021_0022.jpg', '021_0023.jpg', '021_0024.jpg', '021_0025.jpg', '021_0026.jpg', '021_0027.jpg', '021_0028.jpg', '021_0029.jpg', '021_0030.jpg', '021_0031.jpg', '021_0032.jpg', '021_0033.jpg', '021_0034.jpg', '021_0035.jpg', '021_0036.jpg', '021_0037.jpg', '021_0038.jpg', '021_0039.jpg', '021_0040.jpg', '021_0041.jpg', '021_0042.jpg', '021_0043.jpg', '021_0044.jpg', '021_0045.jpg', '021_0046.jpg', '021_0047.jpg', '021_0048.jpg', '021_0049.jpg', '021_0050.jpg', '021_0051.jpg', '021_0052.jpg', '021_0053.jpg', '021_0054.jpg', '021_0055.jpg', '021_0056.jpg', '021_0057.jpg', '021_0058.jpg', '021_0059.jpg', '021_0060.jpg', '021_0061.jpg', '021_0062.jpg', '021_0063.jpg', '021_0064.jpg', '021_0065.jpg', '021_0066.jpg', '021_0067.jpg', '021_0068.jpg', '021_0069.jpg', '021_0070.jpg', '021_0071.jpg', '021_0072.jpg', '021_0073.jpg', '021_0074.jpg', '021_0075.jpg', '021_0076.jpg', '021_0077.jpg', '021_0078.jpg', '021_0079.jpg', '021_0080.jpg', '021_0081.jpg', '021_0082.jpg', '021_0083.jpg', '021_0084.jpg', '021_0085.jpg', '021_0086.jpg', '021_0087.jpg', '021_0088.jpg', '021_0089.jpg', '021_0090.jpg', '021_0091.jpg', '021_0092.jpg', '021_0093.jpg', '021_0094.jpg', '021_0095.jpg', '021_0096.jpg', '021_0097.jpg', '021_0098.jpg', '021_0099.jpg', '021_0100.jpg', '021_0101.jpg', '021_0102.jpg', '021_0103.jpg', '021_0104.jpg', '021_0105.jpg', '021_0106.jpg', '021_0107.jpg', '021_0108.jpg', '021_0109.jpg', '021_0110.jpg', '021_0111.jpg', '021_0112.jpg', '021_0113.jpg', '021_0114.jpg', '021_0115.jpg', '021_0116.jpg', '021_0117.jpg', '021_0118.jpg', '021_0119.jpg', '021_0120.jpg', '021_0121.jpg', '021_0122.jpg', '021_0123.jpg', '021_0124.jpg', '021_0125.jpg', '021_0126.jpg', '021_0127.jpg', '021_0128.jpg', '021_0129.jpg', '021_0130.jpg', '021_0131.jpg', '021_0132.jpg', '021_0133.jpg', '021_0134.jpg', '021_0135.jpg', '021_0136.jpg', '021_0137.jpg', '021_0138.jpg', '021_0139.jpg', '021_0140.jpg', '021_0141.jpg', '021_0142.jpg']\n",
      "---------------------\n",
      "---root---\n",
      "E:/Jupyter NB/10 class Classification/Images\\08.chess-board\n",
      "---dirs---\n",
      "[]\n",
      "---files---\n",
      "['037_0001.jpg', '037_0002.jpg', '037_0003.jpg', '037_0004.jpg', '037_0005.jpg', '037_0006.jpg', '037_0007.jpg', '037_0008.jpg', '037_0009.jpg', '037_0010.jpg', '037_0011.jpg', '037_0012.jpg', '037_0013.jpg', '037_0014.jpg', '037_0015.jpg', '037_0016.jpg', '037_0017.jpg', '037_0018.jpg', '037_0019.jpg', '037_0020.jpg', '037_0021.jpg', '037_0022.jpg', '037_0023.jpg', '037_0024.jpg', '037_0025.jpg', '037_0026.jpg', '037_0027.jpg', '037_0028.jpg', '037_0029.jpg', '037_0030.jpg', '037_0031.jpg', '037_0032.jpg', '037_0033.jpg', '037_0034.jpg', '037_0035.jpg', '037_0036.jpg', '037_0037.jpg', '037_0038.jpg', '037_0039.jpg', '037_0040.jpg', '037_0041.jpg', '037_0042.jpg', '037_0043.jpg', '037_0044.jpg', '037_0045.jpg', '037_0046.jpg', '037_0047.jpg', '037_0048.jpg', '037_0049.jpg', '037_0050.jpg', '037_0051.jpg', '037_0052.jpg', '037_0053.jpg', '037_0054.jpg', '037_0055.jpg', '037_0056.jpg', '037_0057.jpg', '037_0058.jpg', '037_0059.jpg', '037_0060.jpg', '037_0061.jpg', '037_0062.jpg', '037_0063.jpg', '037_0064.jpg', '037_0065.jpg', '037_0066.jpg', '037_0067.jpg', '037_0068.jpg', '037_0069.jpg', '037_0070.jpg', '037_0071.jpg', '037_0072.jpg', '037_0073.jpg', '037_0074.jpg', '037_0075.jpg', '037_0076.jpg', '037_0077.jpg', '037_0078.jpg', '037_0079.jpg', '037_0080.jpg', '037_0081.jpg', '037_0082.jpg', '037_0083.jpg', '037_0084.jpg', '037_0085.jpg', '037_0086.jpg', '037_0087.jpg', '037_0088.jpg', '037_0089.jpg', '037_0090.jpg', '037_0091.jpg', '037_0092.jpg', '037_0093.jpg', '037_0094.jpg', '037_0095.jpg', '037_0096.jpg', '037_0097.jpg', '037_0098.jpg', '037_0099.jpg', '037_0100.jpg', '037_0101.jpg', '037_0102.jpg', '037_0103.jpg', '037_0104.jpg', '037_0105.jpg', '037_0106.jpg', '037_0107.jpg', '037_0108.jpg', '037_0109.jpg', '037_0110.jpg', '037_0111.jpg', '037_0112.jpg', '037_0113.jpg', '037_0114.jpg', '037_0115.jpg', '037_0116.jpg', '037_0117.jpg', '037_0118.jpg', '037_0119.jpg', '037_0120.jpg']\n",
      "---------------------\n",
      "---root---\n",
      "E:/Jupyter NB/10 class Classification/Images\\09.cockroach\n",
      "---dirs---\n",
      "[]\n",
      "---files---\n",
      "['040_0001.jpg', '040_0002.jpg', '040_0003.jpg', '040_0004.jpg', '040_0005.jpg', '040_0006.jpg', '040_0007.jpg', '040_0008.jpg', '040_0009.jpg', '040_0010.jpg', '040_0011.jpg', '040_0012.jpg', '040_0013.jpg', '040_0014.jpg', '040_0015.jpg', '040_0016.jpg', '040_0017.jpg', '040_0018.jpg', '040_0019.jpg', '040_0020.jpg', '040_0021.jpg', '040_0022.jpg', '040_0023.jpg', '040_0024.jpg', '040_0025.jpg', '040_0026.jpg', '040_0027.jpg', '040_0028.jpg', '040_0029.jpg', '040_0030.jpg', '040_0031.jpg', '040_0032.jpg', '040_0033.jpg', '040_0034.jpg', '040_0035.jpg', '040_0036.jpg', '040_0037.jpg', '040_0038.jpg', '040_0039.jpg', '040_0040.jpg', '040_0041.jpg', '040_0042.jpg', '040_0043.jpg', '040_0044.jpg', '040_0045.jpg', '040_0046.jpg', '040_0047.jpg', '040_0048.jpg', '040_0049.jpg', '040_0050.jpg', '040_0051.jpg', '040_0052.jpg', '040_0053.jpg', '040_0054.jpg', '040_0055.jpg', '040_0056.jpg', '040_0057.jpg', '040_0058.jpg', '040_0059.jpg', '040_0060.jpg', '040_0061.jpg', '040_0062.jpg', '040_0063.jpg', '040_0064.jpg', '040_0065.jpg', '040_0066.jpg', '040_0067.jpg', '040_0068.jpg', '040_0069.jpg', '040_0070.jpg', '040_0071.jpg', '040_0072.jpg', '040_0073.jpg', '040_0074.jpg', '040_0075.jpg', '040_0076.jpg', '040_0077.jpg', '040_0078.jpg', '040_0079.jpg', '040_0080.jpg', '040_0081.jpg', '040_0082.jpg', '040_0083.jpg', '040_0084.jpg', '040_0085.jpg', '040_0086.jpg', '040_0087.jpg', '040_0088.jpg', '040_0089.jpg', '040_0090.jpg', '040_0091.jpg', '040_0092.jpg', '040_0093.jpg', '040_0094.jpg', '040_0095.jpg', '040_0096.jpg', '040_0097.jpg', '040_0098.jpg', '040_0099.jpg', '040_0100.jpg', '040_0101.jpg', '040_0102.jpg', '040_0103.jpg', '040_0104.jpg', '040_0105.jpg', '040_0106.jpg', '040_0107.jpg', '040_0108.jpg', '040_0109.jpg', '040_0110.jpg', '040_0111.jpg', '040_0112.jpg', '040_0113.jpg', '040_0114.jpg', '040_0115.jpg', '040_0116.jpg', '040_0117.jpg', '040_0118.jpg', '040_0119.jpg', '040_0120.jpg', '040_0121.jpg', '040_0122.jpg', '040_0123.jpg', '040_0124.jpg']\n",
      "---------------------\n",
      "---root---\n",
      "E:/Jupyter NB/10 class Classification/Images\\10.coin\n",
      "---dirs---\n",
      "[]\n",
      "---files---\n",
      "['043_0001.jpg', '043_0002.jpg', '043_0003.jpg', '043_0004.jpg', '043_0005.jpg', '043_0006.jpg', '043_0007.jpg', '043_0008.jpg', '043_0009.jpg', '043_0010.jpg', '043_0011.jpg', '043_0012.jpg', '043_0013.jpg', '043_0014.jpg', '043_0015.jpg', '043_0016.jpg', '043_0017.jpg', '043_0018.jpg', '043_0019.jpg', '043_0020.jpg', '043_0021.jpg', '043_0022.jpg', '043_0023.jpg', '043_0024.jpg', '043_0025.jpg', '043_0026.jpg', '043_0027.jpg', '043_0028.jpg', '043_0029.jpg', '043_0030.jpg', '043_0031.jpg', '043_0032.jpg', '043_0033.jpg', '043_0034.jpg', '043_0035.jpg', '043_0036.jpg', '043_0037.jpg', '043_0038.jpg', '043_0039.jpg', '043_0040.jpg', '043_0041.jpg', '043_0042.jpg', '043_0043.jpg', '043_0044.jpg', '043_0045.jpg', '043_0046.jpg', '043_0047.jpg', '043_0048.jpg', '043_0049.jpg', '043_0050.jpg', '043_0051.jpg', '043_0052.jpg', '043_0053.jpg', '043_0054.jpg', '043_0055.jpg', '043_0056.jpg', '043_0057.jpg', '043_0058.jpg', '043_0059.jpg', '043_0060.jpg', '043_0061.jpg', '043_0062.jpg', '043_0063.jpg', '043_0064.jpg', '043_0065.jpg', '043_0066.jpg', '043_0067.jpg', '043_0068.jpg', '043_0069.jpg', '043_0070.jpg', '043_0071.jpg', '043_0072.jpg', '043_0073.jpg', '043_0074.jpg', '043_0075.jpg', '043_0076.jpg', '043_0077.jpg', '043_0078.jpg', '043_0079.jpg', '043_0080.jpg', '043_0081.jpg', '043_0082.jpg', '043_0083.jpg', '043_0084.jpg', '043_0085.jpg', '043_0086.jpg', '043_0087.jpg', '043_0088.jpg', '043_0089.jpg', '043_0090.jpg', '043_0091.jpg', '043_0092.jpg', '043_0093.jpg', '043_0094.jpg', '043_0095.jpg', '043_0096.jpg', '043_0097.jpg', '043_0098.jpg', '043_0099.jpg', '043_0100.jpg', '043_0101.jpg', '043_0102.jpg', '043_0103.jpg', '043_0104.jpg', '043_0105.jpg', '043_0106.jpg', '043_0107.jpg', '043_0108.jpg', '043_0109.jpg', '043_0110.jpg', '043_0111.jpg', '043_0112.jpg', '043_0113.jpg', '043_0114.jpg', '043_0115.jpg', '043_0116.jpg', '043_0117.jpg', '043_0118.jpg', '043_0119.jpg', '043_0120.jpg', '043_0121.jpg', '043_0122.jpg', '043_0123.jpg', '043_0124.jpg']\n",
      "---------------------\n",
      "01.backpack\n",
      "02.bathtub\n",
      "03.billiards\n",
      "04.binoculars\n",
      "05.bonsai-101\n",
      "06.boxing-glove\n",
      "07.breadmaker\n",
      "08.chess-board\n",
      "09.cockroach\n",
      "10.coin\n"
     ]
    },
    {
     "name": "stderr",
     "output_type": "stream",
     "text": [
      "\n"
     ]
    }
   ],
   "source": [
    "for root, dirs, files in os.walk(dir_train):\n",
    "    print('---root---')\n",
    "    print(root)\n",
    "    print('---dirs---')\n",
    "    print(dirs)\n",
    "    print('---files---')\n",
    "    print(files)\n",
    "    print('---------------------')\n",
    "\n",
    "\n",
    "\n",
    "subdirs = list(os.walk(dir_train))[1:]\n",
    "\n",
    "for dir_path, _, files in tqdm(subdirs):\n",
    "    \n",
    "    dir_name = dir_path.split('\\\\')[-1]\n",
    "    print(dir_name)"
   ]
  },
  {
   "cell_type": "code",
   "execution_count": 75,
   "metadata": {},
   "outputs": [
    {
     "name": "stderr",
     "output_type": "stream",
     "text": [
      "  0%|                                                                                           | 0/10 [00:00<?, ?it/s]C:\\Users\\aRnob\\miniconda3\\envs\\tensorflow\\lib\\site-packages\\ipykernel_launcher.py:13: DeprecationWarning: `imread` is deprecated!\n",
      "`imread` is deprecated in SciPy 1.0.0, and will be removed in 1.2.0.\n",
      "Use ``imageio.imread`` instead.\n",
      "  del sys.path[0]\n",
      "100%|██████████████████████████████████████████████████████████████████████████████████| 10/10 [00:03<00:00,  2.65it/s]\n"
     ]
    }
   ],
   "source": [
    "subdirs = list(os.walk(dir_train))[1:]\n",
    "\n",
    "# collect train metadata\n",
    "train_metadata = []\n",
    "\n",
    "for dir_path, _, files in tqdm(subdirs):\n",
    "    \n",
    "    dir_name = dir_path.split('\\\\')[-1]\n",
    "    \n",
    "    for file_name in files:\n",
    "        if not file_name.startswith('.'):\n",
    "            # read image\n",
    "            temp = misc.imread(os.path.join(dir_path, file_name)) \n",
    "            # collect image metadata\n",
    "            image_metadata = []\n",
    "            image_metadata.extend([dir_name, file_name])\n",
    "            image_metadata.extend( \n",
    "                list(temp.shape) if len(temp.shape) == 3 \n",
    "                else [temp.shape[0], temp.shape[1], 1]\n",
    "            )\n",
    "            image_metadata.extend([temp.nbytes, temp.dtype])\n",
    "            # append image metadata to list\n",
    "            train_metadata.append(image_metadata)\n",
    "\n",
    "#print(train_metadata)"
   ]
  },
  {
   "cell_type": "code",
   "execution_count": 76,
   "metadata": {},
   "outputs": [],
   "source": [
    "M = pd.DataFrame(train_metadata)\n",
    "M.columns = ['directory', 'img_name', 'height', 'width', 'channels', 'byte_size', 'bit_depth']\n",
    "\n",
    "M['category_name'] = M.directory.apply(lambda x: x.split('.')[-1].lower())\n",
    "M['img_extension'] = M.img_name.apply(lambda x: x.split('.')[-1])\n",
    "M['category_number'] = M.directory.apply(lambda x: int(x.split('.')[0]))"
   ]
  },
  {
   "cell_type": "code",
   "execution_count": 77,
   "metadata": {},
   "outputs": [
    {
     "data": {
      "text/plain": [
       "8"
      ]
     },
     "execution_count": 77,
     "metadata": {},
     "output_type": "execute_result"
    }
   ],
   "source": [
    "# number of grayscale images\n",
    "(M.channels != 3).sum()"
   ]
  },
  {
   "cell_type": "code",
   "execution_count": 78,
   "metadata": {},
   "outputs": [
    {
     "data": {
      "text/plain": [
       "10"
      ]
     },
     "execution_count": 78,
     "metadata": {},
     "output_type": "execute_result"
    }
   ],
   "source": [
    "# number of categories\n",
    "M.category_name.nunique()"
   ]
  },
  {
   "cell_type": "code",
   "execution_count": 79,
   "metadata": {},
   "outputs": [],
   "source": [
    "# class number -> class name\n",
    "decode = {n: i for i, n in M.groupby('category_name').category_number.first().iteritems()}\n",
    "decode\n",
    "\n",
    "np.save('decode.npy', decode)"
   ]
  },
  {
   "cell_type": "code",
   "execution_count": 80,
   "metadata": {},
   "outputs": [],
   "source": [
    "# 20 images per class\n",
    "V = M.groupby('category_name', group_keys=False).apply(lambda x: x.sample(n=20, replace=False))\n",
    "V.sort_index(inplace=True)\n",
    "M.drop(V.index, axis=0, inplace=True)\n",
    "\n",
    "# 20 images per class for test\n",
    "Test = M.groupby('category_name', group_keys=False).apply(lambda x: x.sample(n=20, replace=False))\n",
    "Test.sort_index(inplace=True)\n",
    "M.drop(Test.index, axis=0, inplace=True)"
   ]
  },
  {
   "cell_type": "code",
   "execution_count": 81,
   "metadata": {},
   "outputs": [
    {
     "data": {
      "text/plain": [
       "1233"
      ]
     },
     "execution_count": 81,
     "metadata": {},
     "output_type": "execute_result"
    }
   ],
   "source": [
    "# train data\n",
    "len(M)"
   ]
  },
  {
   "cell_type": "code",
   "execution_count": 82,
   "metadata": {},
   "outputs": [
    {
     "data": {
      "text/plain": [
       "200"
      ]
     },
     "execution_count": 82,
     "metadata": {},
     "output_type": "execute_result"
    }
   ],
   "source": [
    "# validation data\n",
    "len(V)"
   ]
  },
  {
   "cell_type": "code",
   "execution_count": 83,
   "metadata": {},
   "outputs": [
    {
     "data": {
      "text/plain": [
       "200"
      ]
     },
     "execution_count": 83,
     "metadata": {},
     "output_type": "execute_result"
    }
   ],
   "source": [
    "#Test data\n",
    "len(Test)"
   ]
  },
  {
   "cell_type": "code",
   "execution_count": 84,
   "metadata": {},
   "outputs": [],
   "source": [
    "M.to_csv('train_metadata.csv', index=False)\n",
    "V.to_csv('val_metadata.csv', index=False)\n",
    "Test.to_csv('test_data.csv', index=False)"
   ]
  },
  {
   "cell_type": "code",
   "execution_count": 85,
   "metadata": {},
   "outputs": [],
   "source": [
    "t = pd.read_csv('E:/Jupyter NB/10 class Classification/train_metadata.csv')\n",
    "v = pd.read_csv('E:/Jupyter NB/10 class Classification/val_metadata.csv')\n",
    "test = pd.read_csv('E:/Jupyter NB/10 class Classification/test_data.csv')"
   ]
  },
  {
   "cell_type": "code",
   "execution_count": 86,
   "metadata": {},
   "outputs": [],
   "source": [
    "os.mkdir(image_dir + '/train')\n",
    "for i in range(1, 10 + 1):\n",
    "    os.mkdir(image_dir + '/train/' + str(i))"
   ]
  },
  {
   "cell_type": "code",
   "execution_count": 87,
   "metadata": {},
   "outputs": [],
   "source": [
    "os.mkdir(image_dir + '/val')\n",
    "for i in range(1, 10 + 1):\n",
    "    os.mkdir(image_dir + '/val/' + str(i))"
   ]
  },
  {
   "cell_type": "code",
   "execution_count": 88,
   "metadata": {},
   "outputs": [],
   "source": [
    "os.mkdir(image_dir + '/test')\n",
    "for i in range(1, 10 + 1):\n",
    "    os.mkdir(image_dir + '/test/' + str(i))"
   ]
  },
  {
   "cell_type": "markdown",
   "metadata": {},
   "source": [
    "# Train images"
   ]
  },
  {
   "cell_type": "code",
   "execution_count": 89,
   "metadata": {},
   "outputs": [
    {
     "data": {
      "text/plain": [
       "1233"
      ]
     },
     "execution_count": 89,
     "metadata": {},
     "output_type": "execute_result"
    }
   ],
   "source": [
    "train_size = len(t)\n",
    "train_size"
   ]
  },
  {
   "cell_type": "code",
   "execution_count": 90,
   "metadata": {},
   "outputs": [
    {
     "name": "stderr",
     "output_type": "stream",
     "text": [
      "1229it [00:07, 158.51it/s]\n"
     ]
    }
   ],
   "source": [
    "# RGB images\n",
    "for i, row in tqdm(t.loc[t.channels == 3].iterrows()):\n",
    "    # get image\n",
    "    file_path = os.path.join(dir_train, row.directory, row.img_name)\n",
    "    image = Image.open(file_path)\n",
    "    \n",
    "    # save\n",
    "    save_path = os.path.join(image_dir, 'train', str(row.category_number), row.img_name)\n",
    "    image.save(save_path, 'jpeg')"
   ]
  },
  {
   "cell_type": "code",
   "execution_count": 92,
   "metadata": {},
   "outputs": [
    {
     "name": "stderr",
     "output_type": "stream",
     "text": [
      "4it [00:00, 52.06it/s]\n"
     ]
    }
   ],
   "source": [
    "# grayscale images\n",
    "for i, row in tqdm(t.loc[t.channels == 1].iterrows()):\n",
    "    # get image\n",
    "    file_path = os.path.join(dir_train, row.directory, row.img_name)\n",
    "    image = Image.open(file_path)\n",
    "    \n",
    "    # convert to RGB\n",
    "    array = np.asarray(image, dtype='uint8')\n",
    "    array = np.stack([array, array, array], axis=2)\n",
    "    image = Image.fromarray(array)\n",
    "    \n",
    "    # save\n",
    "    save_path = os.path.join(image_dir, 'train', str(row.category_number), row.img_name)\n",
    "    image.save(save_path, 'jpeg')"
   ]
  },
  {
   "cell_type": "markdown",
   "metadata": {},
   "source": [
    "# Validation images"
   ]
  },
  {
   "cell_type": "code",
   "execution_count": 96,
   "metadata": {},
   "outputs": [
    {
     "data": {
      "text/plain": [
       "200"
      ]
     },
     "execution_count": 96,
     "metadata": {},
     "output_type": "execute_result"
    }
   ],
   "source": [
    "val_size = len(v)\n",
    "val_size"
   ]
  },
  {
   "cell_type": "code",
   "execution_count": 94,
   "metadata": {},
   "outputs": [
    {
     "name": "stderr",
     "output_type": "stream",
     "text": [
      "196it [00:01, 140.69it/s]\n"
     ]
    }
   ],
   "source": [
    "# RGB images\n",
    "for i, row in tqdm(v.loc[v.channels == 3].iterrows()):\n",
    "    # get image\n",
    "    file_path = os.path.join(dir_train, row.directory, row.img_name)\n",
    "    image = Image.open(file_path)\n",
    "    \n",
    "    # save\n",
    "    save_path = os.path.join(image_dir, 'val', str(row.category_number), row.img_name)\n",
    "    image.save(save_path, 'jpeg')"
   ]
  },
  {
   "cell_type": "code",
   "execution_count": 95,
   "metadata": {},
   "outputs": [
    {
     "name": "stderr",
     "output_type": "stream",
     "text": [
      "4it [00:01,  2.10it/s]\n"
     ]
    }
   ],
   "source": [
    "# grayscale images\n",
    "for i, row in tqdm(v.loc[v.channels == 1].iterrows()):\n",
    "    # get image\n",
    "    file_path = os.path.join(dir_train, row.directory, row.img_name)\n",
    "    image = Image.open(file_path)\n",
    "    \n",
    "    # convert to RGB\n",
    "    array = np.asarray(image, dtype='uint8')\n",
    "    array = np.stack([array, array, array], axis=2)\n",
    "    image = Image.fromarray(array)\n",
    "    \n",
    "    # save\n",
    "    save_path = os.path.join(image_dir, 'val', str(row.category_number), row.img_name)\n",
    "    image.save(save_path, 'jpeg')"
   ]
  },
  {
   "cell_type": "markdown",
   "metadata": {},
   "source": [
    "# Test images"
   ]
  },
  {
   "cell_type": "code",
   "execution_count": 97,
   "metadata": {},
   "outputs": [
    {
     "data": {
      "text/plain": [
       "200"
      ]
     },
     "execution_count": 97,
     "metadata": {},
     "output_type": "execute_result"
    }
   ],
   "source": [
    "test_size = len(test)\n",
    "test_size"
   ]
  },
  {
   "cell_type": "code",
   "execution_count": 98,
   "metadata": {},
   "outputs": [
    {
     "name": "stderr",
     "output_type": "stream",
     "text": [
      "200it [00:01, 152.59it/s]\n"
     ]
    }
   ],
   "source": [
    "# RGB images\n",
    "for i, row in tqdm(test.loc[test.channels == 3].iterrows()):\n",
    "    # get image\n",
    "    file_path = os.path.join(dir_train, row.directory, row.img_name)\n",
    "    image = Image.open(file_path)\n",
    "    \n",
    "    # save\n",
    "    save_path = os.path.join(image_dir, 'test', str(row.category_number), row.img_name)\n",
    "    image.save(save_path, 'jpeg')"
   ]
  },
  {
   "cell_type": "code",
   "execution_count": 99,
   "metadata": {},
   "outputs": [
    {
     "name": "stderr",
     "output_type": "stream",
     "text": [
      "0it [00:00, ?it/s]\n"
     ]
    }
   ],
   "source": [
    "# grayscale images\n",
    "for i, row in tqdm(test.loc[test.channels == 1].iterrows()):\n",
    "    # get image\n",
    "    file_path = os.path.join(dir_train, row.directory, row.img_name)\n",
    "    image = Image.open(file_path)\n",
    "    \n",
    "    # convert to RGB\n",
    "    array = np.asarray(image, dtype='uint8')\n",
    "    array = np.stack([array, array, array], axis=2)\n",
    "    image = Image.fromarray(array)\n",
    "    \n",
    "    # save\n",
    "    save_path = os.path.join(image_dir, 'test', str(row.category_number), row.img_name)\n",
    "    image.save(save_path, 'jpeg')"
   ]
  },
  {
   "cell_type": "code",
   "execution_count": null,
   "metadata": {},
   "outputs": [],
   "source": []
  }
 ],
 "metadata": {
  "kernelspec": {
   "display_name": "Python 3.7 (tensorflow)",
   "language": "python",
   "name": "tensorflow"
  },
  "language_info": {
   "codemirror_mode": {
    "name": "ipython",
    "version": 3
   },
   "file_extension": ".py",
   "mimetype": "text/x-python",
   "name": "python",
   "nbconvert_exporter": "python",
   "pygments_lexer": "ipython3",
   "version": "3.7.7"
  }
 },
 "nbformat": 4,
 "nbformat_minor": 4
}
