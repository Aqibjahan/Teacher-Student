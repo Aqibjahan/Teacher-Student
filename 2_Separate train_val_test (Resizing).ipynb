{
 "cells": [
  {
   "cell_type": "code",
   "execution_count": 10,
   "metadata": {},
   "outputs": [],
   "source": [
    "import numpy as np\n",
    "import pandas as pd\n",
    "from scipy import misc\n",
    "\n",
    "import torchvision.transforms as transforms\n",
    "import os\n",
    "import shutil\n",
    "from tqdm import tqdm \n",
    "\n",
    "import os\n",
    "from PIL import Image, ImageEnhance"
   ]
  },
  {
   "cell_type": "code",
   "execution_count": 11,
   "metadata": {},
   "outputs": [],
   "source": [
    "# the folder for images\n",
    "dir_train = 'E:/Jupyter NB/10 class Classification/Images'\n",
    "\n",
    "# the directory of separeated images\n",
    "image_dir = 'E:/Jupyter NB/10 class Classification/Train_val_test'"
   ]
  },
  {
   "cell_type": "code",
   "execution_count": 12,
   "metadata": {},
   "outputs": [],
   "source": [
    "t = pd.read_csv('E:/Jupyter NB/10 class Classification/train_metadata.csv')\n",
    "v = pd.read_csv('E:/Jupyter NB/10 class Classification/val_metadata.csv')\n",
    "#test = pd.read_csv('E:/Jupyter NB/10 class Classification/test_data.csv')"
   ]
  },
  {
   "cell_type": "code",
   "execution_count": 13,
   "metadata": {},
   "outputs": [],
   "source": [
    "os.mkdir(image_dir + '/train')\n",
    "for i in range(1, 20 + 1):\n",
    "    os.mkdir(image_dir + '/train/' + str(i))"
   ]
  },
  {
   "cell_type": "code",
   "execution_count": 14,
   "metadata": {},
   "outputs": [],
   "source": [
    "os.mkdir(image_dir + '/val')\n",
    "for i in range(1, 20 + 1):\n",
    "    os.mkdir(image_dir + '/val/' + str(i))"
   ]
  },
  {
   "cell_type": "code",
   "execution_count": 15,
   "metadata": {},
   "outputs": [
    {
     "data": {
      "text/plain": [
       "\"\\nos.mkdir(image_dir + '/test')\\nfor i in range(1, 10 + 1):\\n    os.mkdir(image_dir + '/test/' + str(i))\\n\""
      ]
     },
     "execution_count": 15,
     "metadata": {},
     "output_type": "execute_result"
    }
   ],
   "source": [
    "'''\n",
    "os.mkdir(image_dir + '/test')\n",
    "for i in range(1, 10 + 1):\n",
    "    os.mkdir(image_dir + '/test/' + str(i))\n",
    "'''"
   ]
  },
  {
   "cell_type": "code",
   "execution_count": 16,
   "metadata": {},
   "outputs": [],
   "source": [
    "val_transform = transforms.Compose([\n",
    "    transforms.Scale(299, Image.LANCZOS),\n",
    "    transforms.CenterCrop(299)\n",
    "])"
   ]
  },
  {
   "cell_type": "code",
   "execution_count": 17,
   "metadata": {},
   "outputs": [
    {
     "data": {
      "text/plain": [
       "400"
      ]
     },
     "execution_count": 17,
     "metadata": {},
     "output_type": "execute_result"
    }
   ],
   "source": [
    "val_size = len(v)\n",
    "val_size"
   ]
  },
  {
   "cell_type": "code",
   "execution_count": 18,
   "metadata": {},
   "outputs": [
    {
     "name": "stderr",
     "output_type": "stream",
     "text": [
      "398it [00:03, 115.22it/s]\n"
     ]
    }
   ],
   "source": [
    "# resize RGB images\n",
    "for i, row in tqdm(v.loc[v.channels == 3].iterrows()):\n",
    "    # get image\n",
    "    file_path = os.path.join(dir_train, row.directory, row.img_name)\n",
    "    image = Image.open(file_path)\n",
    "    \n",
    "    # transform it\n",
    "    image = val_transform(image)\n",
    "    \n",
    "    # save\n",
    "    save_path = os.path.join(image_dir, 'val', str(row.category_number), row.img_name)\n",
    "    image.save(save_path, 'jpeg')"
   ]
  },
  {
   "cell_type": "code",
   "execution_count": 19,
   "metadata": {},
   "outputs": [
    {
     "name": "stderr",
     "output_type": "stream",
     "text": [
      "2it [00:00, 143.22it/s]\n"
     ]
    }
   ],
   "source": [
    "# resize grayscale images\n",
    "for i, row in tqdm(v.loc[v.channels == 1].iterrows()):\n",
    "    # get image\n",
    "    file_path = os.path.join(dir_train, row.directory, row.img_name)\n",
    "    image = Image.open(file_path)\n",
    "    \n",
    "    # transform it\n",
    "    image = val_transform(image)\n",
    "    \n",
    "    # convert to RGB\n",
    "    array = np.asarray(image, dtype='uint8')\n",
    "    array = np.stack([array, array, array], axis=2)\n",
    "    image = Image.fromarray(array)\n",
    "    \n",
    "    # save\n",
    "    save_path = os.path.join(image_dir, 'val', str(row.category_number), row.img_name)\n",
    "    image.save(save_path, 'jpeg')"
   ]
  },
  {
   "cell_type": "code",
   "execution_count": 20,
   "metadata": {},
   "outputs": [],
   "source": [
    "enhancers = {\n",
    "    0: lambda image, f: ImageEnhance.Color(image).enhance(f),\n",
    "    1: lambda image, f: ImageEnhance.Contrast(image).enhance(f),\n",
    "    2: lambda image, f: ImageEnhance.Brightness(image).enhance(f),\n",
    "    3: lambda image, f: ImageEnhance.Sharpness(image).enhance(f)\n",
    "}\n",
    "\n",
    "factors = {\n",
    "    0: lambda: np.random.uniform(0.4, 1.6),\n",
    "    1: lambda: np.random.uniform(0.8, 1.2),\n",
    "    2: lambda: np.random.uniform(0.8, 1.2),\n",
    "    3: lambda: np.random.uniform(0.4, 1.6)\n",
    "}\n",
    "\n",
    "# randomly enhance images in random order\n",
    "def enhance(image):\n",
    "    order = [0, 1, 2, 3]\n",
    "    np.random.shuffle(order)\n",
    "    for i in order:\n",
    "        f = factors[i]()\n",
    "        image = enhancers[i](image, f)\n",
    "    return image"
   ]
  },
  {
   "cell_type": "code",
   "execution_count": 21,
   "metadata": {},
   "outputs": [],
   "source": [
    "train_transform_rare = transforms.Compose([\n",
    "    transforms.Scale(384, Image.LANCZOS),\n",
    "    transforms.RandomCrop(299),\n",
    "    transforms.RandomHorizontalFlip(),\n",
    "    transforms.Lambda(enhance)\n",
    "])\n",
    "\n",
    "train_transform = transforms.Compose([\n",
    "    transforms.Scale(384, Image.LANCZOS),\n",
    "    transforms.RandomCrop(299),\n",
    "    transforms.RandomHorizontalFlip(),\n",
    "])"
   ]
  },
  {
   "cell_type": "code",
   "execution_count": 22,
   "metadata": {},
   "outputs": [],
   "source": [
    "# number of images in each category\n",
    "class_counts = dict(t.category_name.value_counts())\n",
    "np.save('class_counts.npy', class_counts)"
   ]
  },
  {
   "cell_type": "code",
   "execution_count": 23,
   "metadata": {},
   "outputs": [],
   "source": [
    "# sample with replacement 100 images from each category\n",
    "t = t.groupby('category_name', group_keys=False).apply(lambda x: x.sample(n=100, replace=True))\n",
    "t.reset_index(drop=True, inplace=True)"
   ]
  },
  {
   "cell_type": "code",
   "execution_count": 24,
   "metadata": {},
   "outputs": [
    {
     "data": {
      "text/plain": [
       "2000"
      ]
     },
     "execution_count": 24,
     "metadata": {},
     "output_type": "execute_result"
    }
   ],
   "source": [
    "train_size = len(t)\n",
    "train_size"
   ]
  },
  {
   "cell_type": "code",
   "execution_count": 25,
   "metadata": {},
   "outputs": [
    {
     "name": "stderr",
     "output_type": "stream",
     "text": [
      "1987it [00:23, 86.06it/s] \n"
     ]
    }
   ],
   "source": [
    "#resize RGB images\n",
    "for i, row in tqdm(t.loc[t.channels == 3].iterrows()):\n",
    "    # get image\n",
    "    file_path = os.path.join(dir_train, row.directory, row.img_name)\n",
    "    image = Image.open(file_path)\n",
    "    \n",
    "    # transform it\n",
    "    if class_counts[row.category_name] < 100:\n",
    "        image = train_transform_rare(image)\n",
    "    else:\n",
    "        image = train_transform(image)\n",
    "    \n",
    "    # save\n",
    "    new_image_name = str(i) + '_' + row.img_name\n",
    "    save_path = os.path.join(image_dir, 'train', str(row.category_number), new_image_name)\n",
    "    image.save(save_path, 'jpeg')"
   ]
  },
  {
   "cell_type": "code",
   "execution_count": 26,
   "metadata": {},
   "outputs": [
    {
     "name": "stderr",
     "output_type": "stream",
     "text": [
      "13it [00:00, 16.51it/s]\n"
     ]
    }
   ],
   "source": [
    "# resize grayscale images\n",
    "for i, row in tqdm(t.loc[t.channels == 1].iterrows()):\n",
    "    # get image\n",
    "    file_path = os.path.join(dir_train, row.directory, row.img_name)\n",
    "    image = Image.open(file_path)\n",
    "    \n",
    "    # transform it\n",
    "    if class_counts[row.category_name] < 100:\n",
    "        image = train_transform_rare(image)\n",
    "    else:\n",
    "        image = train_transform(image)\n",
    "    \n",
    "    # convert to RGB\n",
    "    array = np.asarray(image, dtype='uint8')\n",
    "    array = np.stack([array, array, array], axis=2)\n",
    "    image = Image.fromarray(array)\n",
    "    \n",
    "    # save\n",
    "    new_image_name = str(i) + '_' + row.img_name\n",
    "    save_path = os.path.join(image_dir, 'train', str(row.category_number), new_image_name)\n",
    "    image.save(save_path, 'jpeg')"
   ]
  },
  {
   "cell_type": "code",
   "execution_count": null,
   "metadata": {},
   "outputs": [],
   "source": []
  }
 ],
 "metadata": {
  "kernelspec": {
   "display_name": "Python 3.7 (tensorflow)",
   "language": "python",
   "name": "tensorflow"
  },
  "language_info": {
   "codemirror_mode": {
    "name": "ipython",
    "version": 3
   },
   "file_extension": ".py",
   "mimetype": "text/x-python",
   "name": "python",
   "nbconvert_exporter": "python",
   "pygments_lexer": "ipython3",
   "version": "3.7.7"
  }
 },
 "nbformat": 4,
 "nbformat_minor": 4
}
