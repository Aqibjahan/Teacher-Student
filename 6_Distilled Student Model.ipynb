{
 "cells": [
  {
   "cell_type": "code",
   "execution_count": 1,
   "metadata": {},
   "outputs": [],
   "source": [
    "data_dir = 'E:/Jupyter NB/10 class Classification/'\n",
    "\n",
    "train_dir = 'E:/Jupyter NB/10 class Classification/Train_val_test/train'\n",
    "val_dir = 'E:/Jupyter NB/10 class Classification/Train_val_test/val'\n",
    "test_dir = 'E:/Jupyter NB/10 class Classification/Train_val_test/test'"
   ]
  },
  {
   "cell_type": "code",
   "execution_count": 2,
   "metadata": {},
   "outputs": [
    {
     "name": "stderr",
     "output_type": "stream",
     "text": [
      "Using TensorFlow backend.\n"
     ]
    }
   ],
   "source": [
    "import numpy as np\n",
    "import sys\n",
    "sys.path.append('utils/')\n",
    "\n",
    "import keras\n",
    "from keras import layers\n",
    "from keras import models\n",
    "\n",
    "from keras import optimizers\n",
    "from keras.callbacks import ReduceLROnPlateau, EarlyStopping\n",
    "\n",
    "from image_preprocessing_ver2 import ImageDataGenerator\n",
    "\n",
    "from keras.models import Model\n",
    "from keras.layers import Lambda, concatenate, Activation\n",
    "from keras.losses import categorical_crossentropy as logloss\n",
    "from keras.metrics import categorical_accuracy, top_k_categorical_accuracy\n",
    "from keras import backend as K"
   ]
  },
  {
   "cell_type": "code",
   "execution_count": 3,
   "metadata": {},
   "outputs": [],
   "source": [
    "train_logits = np.load(data_dir + 'train_logits.npy', allow_pickle = True)[()]\n",
    "val_logits = np.load(data_dir + 'val_logits.npy', allow_pickle = True)[()]"
   ]
  },
  {
   "cell_type": "code",
   "execution_count": 4,
   "metadata": {},
   "outputs": [],
   "source": [
    "def preprocess_input(x):\n",
    "    x /= 255.0\n",
    "    x -= 0.5\n",
    "    x *= 2.0\n",
    "    return x"
   ]
  },
  {
   "cell_type": "code",
   "execution_count": 5,
   "metadata": {},
   "outputs": [
    {
     "name": "stdout",
     "output_type": "stream",
     "text": [
      "Found 2000 images belonging to 20 classes.\n",
      "Found 400 images belonging to 20 classes.\n"
     ]
    }
   ],
   "source": [
    "\n",
    "data_generator = ImageDataGenerator(\n",
    "    data_format='channels_last',\n",
    "    preprocessing_function=preprocess_input\n",
    ")\n",
    "\n",
    "# note: i'm also passing dicts of logits\n",
    "train_generator = data_generator.flow_from_directory(\n",
    "    train_dir, train_logits,\n",
    "    target_size=(299, 299),\n",
    "    batch_size=20\n",
    ")\n",
    "\n",
    "validation_generator = data_generator.flow_from_directory(\n",
    "    val_dir, val_logits,\n",
    "    target_size=(299, 299),\n",
    "    batch_size=20\n",
    ")"
   ]
  },
  {
   "cell_type": "code",
   "execution_count": 6,
   "metadata": {},
   "outputs": [
    {
     "name": "stdout",
     "output_type": "stream",
     "text": [
      "Model: \"sequential_1\"\n",
      "_________________________________________________________________\n",
      "Layer (type)                 Output Shape              Param #   \n",
      "=================================================================\n",
      "conv2d_1 (Conv2D)            (None, 297, 297, 16)      448       \n",
      "_________________________________________________________________\n",
      "max_pooling2d_1 (MaxPooling2 (None, 148, 148, 16)      0         \n",
      "_________________________________________________________________\n",
      "conv2d_2 (Conv2D)            (None, 146, 146, 32)      4640      \n",
      "_________________________________________________________________\n",
      "max_pooling2d_2 (MaxPooling2 (None, 73, 73, 32)        0         \n",
      "_________________________________________________________________\n",
      "flatten_1 (Flatten)          (None, 170528)            0         \n",
      "_________________________________________________________________\n",
      "dense_1 (Dense)              (None, 64)                10913856  \n",
      "_________________________________________________________________\n",
      "dense_2 (Dense)              (None, 20)                1300      \n",
      "=================================================================\n",
      "Total params: 10,920,244\n",
      "Trainable params: 10,920,244\n",
      "Non-trainable params: 0\n",
      "_________________________________________________________________\n"
     ]
    }
   ],
   "source": [
    "std_model = models.Sequential([\n",
    "    layers.Conv2D(16, (3,3), activation = 'relu', input_shape = (299,299,3)),\n",
    "    layers.MaxPooling2D(2,2),\n",
    "    layers.Conv2D(32, (3,3), activation = 'relu'),\n",
    "    layers.MaxPooling2D(2,2),\n",
    "    \n",
    "    layers.Flatten(),\n",
    "    layers.Dense(64, activation = 'relu'),\n",
    "    layers.Dense(20, activation = 'softmax')\n",
    "    \n",
    "])\n",
    "\n",
    "std_model.summary()"
   ]
  },
  {
   "cell_type": "code",
   "execution_count": 7,
   "metadata": {},
   "outputs": [],
   "source": [
    "temperature = 5.0\n",
    "\n",
    "# remove softmax\n",
    "std_model.layers.pop()\n",
    "\n",
    "# usual probabilities\n",
    "logits = std_model.layers[-1].output\n",
    "probabilities = Activation('softmax')(logits)\n",
    "\n",
    "# softed probabilities\n",
    "logits_T = Lambda(lambda x: x/temperature)(logits)\n",
    "probabilities_T = Activation('softmax')(logits_T)\n",
    "\n",
    "output = concatenate([probabilities, probabilities_T])\n",
    "model = Model(std_model.input, output)\n",
    "# now model outputs 512 dimensional vectors"
   ]
  },
  {
   "cell_type": "code",
   "execution_count": 8,
   "metadata": {},
   "outputs": [],
   "source": [
    "def knowledge_distillation_loss(y_true, y_pred, lambda_const):    \n",
    "    \n",
    "    # split in \n",
    "    #    onehot hard true targets\n",
    "    #    logits from xception\n",
    "    y_true, logits = y_true[:, :20], y_true[:, 20:]\n",
    "    \n",
    "    # convert logits to soft targets\n",
    "    y_soft = K.softmax(logits/temperature)\n",
    "    \n",
    "    # split in \n",
    "    #    usual output probabilities\n",
    "    #    probabilities made softer with temperature\n",
    "    y_pred, y_pred_soft = y_pred[:, :20], y_pred[:, 20:]    \n",
    "    \n",
    "    return lambda_const*logloss(y_true, y_pred) + logloss(y_soft, y_pred_soft)"
   ]
  },
  {
   "cell_type": "code",
   "execution_count": 9,
   "metadata": {},
   "outputs": [],
   "source": [
    "def accuracy(y_true, y_pred):\n",
    "    y_true = y_true[:, :20]\n",
    "    y_pred = y_pred[:, :20]\n",
    "    return categorical_accuracy(y_true, y_pred)"
   ]
  },
  {
   "cell_type": "code",
   "execution_count": 10,
   "metadata": {},
   "outputs": [],
   "source": [
    "def top_5_accuracy(y_true, y_pred):\n",
    "    y_true = y_true[:, :20]\n",
    "    y_pred = y_pred[:, :20]\n",
    "    return top_k_categorical_accuracy(y_true, y_pred)"
   ]
  },
  {
   "cell_type": "code",
   "execution_count": 11,
   "metadata": {},
   "outputs": [],
   "source": [
    "def categorical_crossentropy(y_true, y_pred):\n",
    "    y_true = y_true[:, :20]\n",
    "    y_pred = y_pred[:, :20]\n",
    "    return logloss(y_true, y_pred)"
   ]
  },
  {
   "cell_type": "code",
   "execution_count": 12,
   "metadata": {},
   "outputs": [],
   "source": [
    "# logloss with only soft probabilities and targets\n",
    "def soft_logloss(y_true, y_pred):     \n",
    "    logits = y_true[:, 20:]\n",
    "    y_soft = K.softmax(logits/temperature)\n",
    "    y_pred_soft = y_pred[:, 20:]    \n",
    "    return logloss(y_soft, y_pred_soft)"
   ]
  },
  {
   "cell_type": "code",
   "execution_count": 13,
   "metadata": {},
   "outputs": [],
   "source": [
    "lambda_const = 0.07\n",
    "\n",
    "model.compile(loss=lambda y_true, y_pred: knowledge_distillation_loss(y_true, y_pred, lambda_const),\n",
    "    optimizer=optimizers.SGD(lr=1e-3),\n",
    "    metrics=[categorical_crossentropy, accuracy, top_5_accuracy, soft_logloss])"
   ]
  },
  {
   "cell_type": "code",
   "execution_count": 14,
   "metadata": {},
   "outputs": [
    {
     "name": "stdout",
     "output_type": "stream",
     "text": [
      "Epoch 1/30\n",
      "150/150 [==============================] - 23s 153ms/step - loss: 3.2054 - categorical_crossentropy: 2.9959 - accuracy: 0.0673 - top_5_accuracy: 0.2493 - soft_logloss: 2.9957 - val_loss: 3.2053 - val_categorical_crossentropy: 2.9950 - val_accuracy: 0.0767 - val_top_5_accuracy: 0.2633 - val_soft_logloss: 2.9957\n",
      "Epoch 2/30\n",
      "150/150 [==============================] - 20s 133ms/step - loss: 3.2054 - categorical_crossentropy: 2.9956 - accuracy: 0.0693 - top_5_accuracy: 0.2560 - soft_logloss: 2.9957 - val_loss: 3.2055 - val_categorical_crossentropy: 2.9948 - val_accuracy: 0.0833 - val_top_5_accuracy: 0.2850 - val_soft_logloss: 2.9957\n",
      "Epoch 3/30\n",
      "150/150 [==============================] - 24s 160ms/step - loss: 3.2054 - categorical_crossentropy: 2.9955 - accuracy: 0.0693 - top_5_accuracy: 0.2613 - soft_logloss: 2.9957 - val_loss: 3.2053 - val_categorical_crossentropy: 2.9946 - val_accuracy: 0.0817 - val_top_5_accuracy: 0.2817 - val_soft_logloss: 2.9957\n",
      "Epoch 4/30\n",
      "150/150 [==============================] - 26s 174ms/step - loss: 3.2054 - categorical_crossentropy: 2.9954 - accuracy: 0.0747 - top_5_accuracy: 0.2643 - soft_logloss: 2.9957 - val_loss: 3.2053 - val_categorical_crossentropy: 2.9947 - val_accuracy: 0.0850 - val_top_5_accuracy: 0.2783 - val_soft_logloss: 2.9957\n",
      "Epoch 5/30\n",
      "150/150 [==============================] - 26s 174ms/step - loss: 3.2054 - categorical_crossentropy: 2.9953 - accuracy: 0.0753 - top_5_accuracy: 0.2710 - soft_logloss: 2.9957 - val_loss: 3.2053 - val_categorical_crossentropy: 2.9946 - val_accuracy: 0.0833 - val_top_5_accuracy: 0.2700 - val_soft_logloss: 2.9957\n",
      "Epoch 6/30\n",
      "150/150 [==============================] - 26s 174ms/step - loss: 3.2054 - categorical_crossentropy: 2.9951 - accuracy: 0.0833 - top_5_accuracy: 0.2810 - soft_logloss: 2.9957 - val_loss: 3.2053 - val_categorical_crossentropy: 2.9943 - val_accuracy: 0.0850 - val_top_5_accuracy: 0.2717 - val_soft_logloss: 2.9957\n",
      "Epoch 7/30\n",
      "150/150 [==============================] - 26s 174ms/step - loss: 3.2054 - categorical_crossentropy: 2.9949 - accuracy: 0.0827 - top_5_accuracy: 0.2863 - soft_logloss: 2.9957 - val_loss: 3.2054 - val_categorical_crossentropy: 2.9944 - val_accuracy: 0.0833 - val_top_5_accuracy: 0.2833 - val_soft_logloss: 2.9957\n",
      "Epoch 8/30\n",
      "150/150 [==============================] - 26s 174ms/step - loss: 3.2054 - categorical_crossentropy: 2.9949 - accuracy: 0.0910 - top_5_accuracy: 0.2857 - soft_logloss: 2.9957 - val_loss: 3.2053 - val_categorical_crossentropy: 2.9939 - val_accuracy: 0.1000 - val_top_5_accuracy: 0.3000 - val_soft_logloss: 2.9957\n",
      "Epoch 9/30\n",
      "150/150 [==============================] - 26s 174ms/step - loss: 3.2053 - categorical_crossentropy: 2.9945 - accuracy: 0.0910 - top_5_accuracy: 0.3020 - soft_logloss: 2.9957 - val_loss: 3.2054 - val_categorical_crossentropy: 2.9941 - val_accuracy: 0.0967 - val_top_5_accuracy: 0.2933 - val_soft_logloss: 2.9957\n",
      "Epoch 10/30\n",
      "150/150 [==============================] - 26s 175ms/step - loss: 3.2054 - categorical_crossentropy: 2.9946 - accuracy: 0.0910 - top_5_accuracy: 0.2863 - soft_logloss: 2.9957 - val_loss: 3.2053 - val_categorical_crossentropy: 2.9936 - val_accuracy: 0.1000 - val_top_5_accuracy: 0.2917 - val_soft_logloss: 2.9957\n",
      "Epoch 11/30\n",
      "150/150 [==============================] - 26s 174ms/step - loss: 3.2053 - categorical_crossentropy: 2.9942 - accuracy: 0.0947 - top_5_accuracy: 0.3037 - soft_logloss: 2.9957 - val_loss: 3.2055 - val_categorical_crossentropy: 2.9937 - val_accuracy: 0.1000 - val_top_5_accuracy: 0.2900 - val_soft_logloss: 2.9957\n",
      "Epoch 12/30\n",
      "150/150 [==============================] - 26s 175ms/step - loss: 3.2053 - categorical_crossentropy: 2.9942 - accuracy: 0.0977 - top_5_accuracy: 0.3003 - soft_logloss: 2.9957 - val_loss: 3.2052 - val_categorical_crossentropy: 2.9934 - val_accuracy: 0.1083 - val_top_5_accuracy: 0.2850 - val_soft_logloss: 2.9957\n",
      "Epoch 13/30\n",
      "150/150 [==============================] - 28s 185ms/step - loss: 3.2053 - categorical_crossentropy: 2.9939 - accuracy: 0.1037 - top_5_accuracy: 0.3110 - soft_logloss: 2.9957 - val_loss: 3.2053 - val_categorical_crossentropy: 2.9937 - val_accuracy: 0.1000 - val_top_5_accuracy: 0.2783 - val_soft_logloss: 2.9957\n",
      "Epoch 14/30\n",
      "150/150 [==============================] - 28s 190ms/step - loss: 3.2053 - categorical_crossentropy: 2.9938 - accuracy: 0.0963 - top_5_accuracy: 0.3157 - soft_logloss: 2.9957 - val_loss: 3.2053 - val_categorical_crossentropy: 2.9928 - val_accuracy: 0.1033 - val_top_5_accuracy: 0.3233 - val_soft_logloss: 2.9957\n",
      "Epoch 15/30\n",
      "150/150 [==============================] - 29s 191ms/step - loss: 3.2053 - categorical_crossentropy: 2.9936 - accuracy: 0.1053 - top_5_accuracy: 0.3180 - soft_logloss: 2.9957 - val_loss: 3.2055 - val_categorical_crossentropy: 2.9928 - val_accuracy: 0.0950 - val_top_5_accuracy: 0.3233 - val_soft_logloss: 2.9957\n",
      "Epoch 16/30\n",
      "150/150 [==============================] - 29s 192ms/step - loss: 3.2053 - categorical_crossentropy: 2.9934 - accuracy: 0.1063 - top_5_accuracy: 0.3203 - soft_logloss: 2.9957 - val_loss: 3.2051 - val_categorical_crossentropy: 2.9930 - val_accuracy: 0.1050 - val_top_5_accuracy: 0.2900 - val_soft_logloss: 2.9957\n",
      "Epoch 17/30\n",
      "150/150 [==============================] - 29s 193ms/step - loss: 3.2053 - categorical_crossentropy: 2.9933 - accuracy: 0.0997 - top_5_accuracy: 0.3200 - soft_logloss: 2.9957 - val_loss: 3.2052 - val_categorical_crossentropy: 2.9927 - val_accuracy: 0.1050 - val_top_5_accuracy: 0.3033 - val_soft_logloss: 2.9957\n",
      "Epoch 18/30\n",
      "150/150 [==============================] - 29s 193ms/step - loss: 3.2052 - categorical_crossentropy: 2.9929 - accuracy: 0.1057 - top_5_accuracy: 0.3287 - soft_logloss: 2.9957 - val_loss: 3.2053 - val_categorical_crossentropy: 2.9925 - val_accuracy: 0.1083 - val_top_5_accuracy: 0.3100 - val_soft_logloss: 2.9957\n",
      "Epoch 19/30\n",
      "150/150 [==============================] - 29s 195ms/step - loss: 3.2052 - categorical_crossentropy: 2.9927 - accuracy: 0.1050 - top_5_accuracy: 0.3303 - soft_logloss: 2.9957 - val_loss: 3.2053 - val_categorical_crossentropy: 2.9923 - val_accuracy: 0.1050 - val_top_5_accuracy: 0.3167 - val_soft_logloss: 2.9957\n",
      "Epoch 20/30\n",
      "150/150 [==============================] - 29s 193ms/step - loss: 3.2052 - categorical_crossentropy: 2.9927 - accuracy: 0.0967 - top_5_accuracy: 0.3323 - soft_logloss: 2.9957 - val_loss: 3.2055 - val_categorical_crossentropy: 2.9922 - val_accuracy: 0.1017 - val_top_5_accuracy: 0.3067 - val_soft_logloss: 2.9957\n",
      "Epoch 21/30\n",
      "150/150 [==============================] - 29s 193ms/step - loss: 3.2052 - categorical_crossentropy: 2.9925 - accuracy: 0.0990 - top_5_accuracy: 0.3370 - soft_logloss: 2.9957 - val_loss: 3.2054 - val_categorical_crossentropy: 2.9922 - val_accuracy: 0.0950 - val_top_5_accuracy: 0.3050 - val_soft_logloss: 2.9957\n",
      "Epoch 22/30\n",
      "150/150 [==============================] - 29s 193ms/step - loss: 3.2052 - categorical_crossentropy: 2.9922 - accuracy: 0.0940 - top_5_accuracy: 0.3370 - soft_logloss: 2.9957 - val_loss: 3.2055 - val_categorical_crossentropy: 2.9916 - val_accuracy: 0.1050 - val_top_5_accuracy: 0.3217 - val_soft_logloss: 2.9957\n",
      "Epoch 23/30\n",
      "150/150 [==============================] - 29s 193ms/step - loss: 3.2052 - categorical_crossentropy: 2.9920 - accuracy: 0.0960 - top_5_accuracy: 0.3427 - soft_logloss: 2.9957 - val_loss: 3.2049 - val_categorical_crossentropy: 2.9914 - val_accuracy: 0.1033 - val_top_5_accuracy: 0.3300 - val_soft_logloss: 2.9957\n",
      "Epoch 24/30\n",
      "150/150 [==============================] - 29s 193ms/step - loss: 3.2052 - categorical_crossentropy: 2.9919 - accuracy: 0.0930 - top_5_accuracy: 0.3457 - soft_logloss: 2.9957 - val_loss: 3.2052 - val_categorical_crossentropy: 2.9917 - val_accuracy: 0.0967 - val_top_5_accuracy: 0.3033 - val_soft_logloss: 2.9957\n",
      "Epoch 25/30\n",
      "150/150 [==============================] - 29s 193ms/step - loss: 3.2051 - categorical_crossentropy: 2.9916 - accuracy: 0.0933 - top_5_accuracy: 0.3477 - soft_logloss: 2.9957 - val_loss: 3.2055 - val_categorical_crossentropy: 2.9917 - val_accuracy: 0.1000 - val_top_5_accuracy: 0.3050 - val_soft_logloss: 2.9957\n",
      "Epoch 26/30\n"
     ]
    },
    {
     "name": "stdout",
     "output_type": "stream",
     "text": [
      "150/150 [==============================] - 29s 193ms/step - loss: 3.2051 - categorical_crossentropy: 2.9914 - accuracy: 0.0930 - top_5_accuracy: 0.3457 - soft_logloss: 2.9957 - val_loss: 3.2052 - val_categorical_crossentropy: 2.9906 - val_accuracy: 0.0933 - val_top_5_accuracy: 0.3317 - val_soft_logloss: 2.9957\n",
      "Epoch 27/30\n",
      "150/150 [==============================] - 29s 193ms/step - loss: 3.2051 - categorical_crossentropy: 2.9912 - accuracy: 0.0920 - top_5_accuracy: 0.3493 - soft_logloss: 2.9957 - val_loss: 3.2053 - val_categorical_crossentropy: 2.9912 - val_accuracy: 0.0883 - val_top_5_accuracy: 0.3100 - val_soft_logloss: 2.9957\n",
      "Epoch 28/30\n",
      "150/150 [==============================] - 29s 194ms/step - loss: 3.2051 - categorical_crossentropy: 2.9909 - accuracy: 0.0933 - top_5_accuracy: 0.3490 - soft_logloss: 2.9957 - val_loss: 3.2051 - val_categorical_crossentropy: 2.9902 - val_accuracy: 0.1017 - val_top_5_accuracy: 0.3317 - val_soft_logloss: 2.9957\n",
      "Epoch 29/30\n",
      "150/150 [==============================] - 29s 195ms/step - loss: 3.2051 - categorical_crossentropy: 2.9907 - accuracy: 0.0920 - top_5_accuracy: 0.3553 - soft_logloss: 2.9957 - val_loss: 3.2046 - val_categorical_crossentropy: 2.9904 - val_accuracy: 0.0933 - val_top_5_accuracy: 0.3250 - val_soft_logloss: 2.9957\n",
      "Epoch 30/30\n",
      "150/150 [==============================] - 29s 194ms/step - loss: 3.2051 - categorical_crossentropy: 2.9905 - accuracy: 0.0923 - top_5_accuracy: 0.3567 - soft_logloss: 2.9957 - val_loss: 3.2047 - val_categorical_crossentropy: 2.9901 - val_accuracy: 0.0917 - val_top_5_accuracy: 0.3367 - val_soft_logloss: 2.9957\n"
     ]
    }
   ],
   "source": [
    "history = model.fit_generator(\n",
    "    train_generator,\n",
    "    steps_per_epoch=150,\n",
    "    epochs=30,\n",
    "    validation_data=validation_generator,\n",
    "    validation_steps=30)"
   ]
  },
  {
   "cell_type": "code",
   "execution_count": null,
   "metadata": {},
   "outputs": [],
   "source": []
  }
 ],
 "metadata": {
  "kernelspec": {
   "display_name": "Python 3.7 (tensorflow)",
   "language": "python",
   "name": "tensorflow"
  },
  "language_info": {
   "codemirror_mode": {
    "name": "ipython",
    "version": 3
   },
   "file_extension": ".py",
   "mimetype": "text/x-python",
   "name": "python",
   "nbconvert_exporter": "python",
   "pygments_lexer": "ipython3",
   "version": "3.7.7"
  }
 },
 "nbformat": 4,
 "nbformat_minor": 4
}
