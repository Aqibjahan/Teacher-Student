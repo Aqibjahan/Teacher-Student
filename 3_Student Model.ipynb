{
 "cells": [
  {
   "cell_type": "code",
   "execution_count": 1,
   "metadata": {},
   "outputs": [],
   "source": [
    "train_dir = 'E:/Jupyter NB/10 class Classification/Train_val_test/train'\n",
    "val_dir = 'E:/Jupyter NB/10 class Classification/Train_val_test/val'\n",
    "test_dir = 'E:/Jupyter NB/10 class Classification/Train_val_test/test'"
   ]
  },
  {
   "cell_type": "markdown",
   "metadata": {},
   "source": [
    "# Defining Model"
   ]
  },
  {
   "cell_type": "code",
   "execution_count": 2,
   "metadata": {},
   "outputs": [
    {
     "name": "stderr",
     "output_type": "stream",
     "text": [
      "Using TensorFlow backend.\n"
     ]
    }
   ],
   "source": [
    "import keras\n",
    "from keras import layers\n",
    "from keras import models"
   ]
  },
  {
   "cell_type": "code",
   "execution_count": 3,
   "metadata": {},
   "outputs": [
    {
     "name": "stdout",
     "output_type": "stream",
     "text": [
      "Model: \"sequential_1\"\n",
      "_________________________________________________________________\n",
      "Layer (type)                 Output Shape              Param #   \n",
      "=================================================================\n",
      "conv2d_1 (Conv2D)            (None, 297, 297, 16)      448       \n",
      "_________________________________________________________________\n",
      "max_pooling2d_1 (MaxPooling2 (None, 148, 148, 16)      0         \n",
      "_________________________________________________________________\n",
      "conv2d_2 (Conv2D)            (None, 146, 146, 32)      4640      \n",
      "_________________________________________________________________\n",
      "max_pooling2d_2 (MaxPooling2 (None, 73, 73, 32)        0         \n",
      "_________________________________________________________________\n",
      "flatten_1 (Flatten)          (None, 170528)            0         \n",
      "_________________________________________________________________\n",
      "dense_1 (Dense)              (None, 64)                10913856  \n",
      "_________________________________________________________________\n",
      "dense_2 (Dense)              (None, 10)                650       \n",
      "=================================================================\n",
      "Total params: 10,919,594\n",
      "Trainable params: 10,919,594\n",
      "Non-trainable params: 0\n",
      "_________________________________________________________________\n"
     ]
    }
   ],
   "source": [
    "std_model = models.Sequential([\n",
    "    layers.Conv2D(16, (3,3), activation = 'relu', input_shape = (299,299,3)),\n",
    "    layers.MaxPooling2D(2,2),\n",
    "    layers.Conv2D(32, (3,3), activation = 'relu'),\n",
    "    layers.MaxPooling2D(2,2),\n",
    "    \n",
    "    layers.Flatten(),\n",
    "    layers.Dense(64, activation = 'relu'),\n",
    "    layers.Dense(10, activation = 'softmax')\n",
    "    \n",
    "])\n",
    "\n",
    "std_model.summary()"
   ]
  },
  {
   "cell_type": "markdown",
   "metadata": {},
   "source": [
    "# Model"
   ]
  },
  {
   "cell_type": "code",
   "execution_count": 4,
   "metadata": {},
   "outputs": [
    {
     "name": "stdout",
     "output_type": "stream",
     "text": [
      "Found 1233 images belonging to 10 classes.\n",
      "Found 200 images belonging to 10 classes.\n",
      "Found 200 images belonging to 10 classes.\n"
     ]
    }
   ],
   "source": [
    "from keras.preprocessing.image import ImageDataGenerator\n",
    "\n",
    "train_datagen = ImageDataGenerator(rescale=1./255)\n",
    "val_datagen = ImageDataGenerator(rescale=1./255)\n",
    "test_datagen = ImageDataGenerator(rescale=1./255)\n",
    "\n",
    "train_generator = train_datagen.flow_from_directory(\n",
    "    train_dir,\n",
    "    target_size=(299, 299),\n",
    "    batch_size=20,\n",
    "    class_mode='categorical')\n",
    "\n",
    "validation_generator = val_datagen.flow_from_directory(\n",
    "    val_dir,\n",
    "    target_size=(299, 299),\n",
    "    batch_size=20,\n",
    "    class_mode='categorical')\n",
    "\n",
    "test_generator = test_datagen.flow_from_directory(\n",
    "    test_dir,\n",
    "    target_size=(299, 299),\n",
    "    batch_size=20,\n",
    "    class_mode='categorical')"
   ]
  },
  {
   "cell_type": "code",
   "execution_count": 5,
   "metadata": {},
   "outputs": [],
   "source": [
    "from keras.losses import categorical_crossentropy as logloss\n",
    "from keras import backend as K\n",
    "\n",
    "def loss(y_true, y_pred):\n",
    "    entropy = -K.mean(K.sum(y_pred*K.log(y_pred), 1))\n",
    "    beta = 0.1\n",
    "    return logloss(y_true, y_pred) - beta*entropy"
   ]
  },
  {
   "cell_type": "code",
   "execution_count": 6,
   "metadata": {},
   "outputs": [],
   "source": [
    "from keras import optimizers\n",
    "\n",
    "std_model.compile(loss=loss,\n",
    "    optimizer=optimizers.SGD(lr=1e-2),\n",
    "    metrics=['categorical_crossentropy', 'accuracy'])"
   ]
  },
  {
   "cell_type": "code",
   "execution_count": 7,
   "metadata": {},
   "outputs": [
    {
     "name": "stdout",
     "output_type": "stream",
     "text": [
      "Epoch 1/10\n",
      "80/80 [==============================] - 14s 177ms/step - loss: 1.9909 - categorical_crossentropy: 2.2138 - accuracy: 0.2392 - val_loss: 1.9554 - val_categorical_crossentropy: 2.2095 - val_accuracy: 0.2750\n",
      "Epoch 2/10\n",
      "80/80 [==============================] - 11s 142ms/step - loss: 1.7167 - categorical_crossentropy: 1.9181 - accuracy: 0.3827 - val_loss: 1.6263 - val_categorical_crossentropy: 1.8896 - val_accuracy: 0.3350\n",
      "Epoch 3/10\n",
      "80/80 [==============================] - 11s 142ms/step - loss: 1.5105 - categorical_crossentropy: 1.6954 - accuracy: 0.4557 - val_loss: 1.2105 - val_categorical_crossentropy: 1.6466 - val_accuracy: 0.3900\n",
      "Epoch 4/10\n",
      "80/80 [==============================] - 11s 143ms/step - loss: 1.3139 - categorical_crossentropy: 1.4808 - accuracy: 0.5223 - val_loss: 1.2901 - val_categorical_crossentropy: 1.4803 - val_accuracy: 0.4950\n",
      "Epoch 5/10\n",
      "80/80 [==============================] - 12s 145ms/step - loss: 1.1715 - categorical_crossentropy: 1.3267 - accuracy: 0.5782 - val_loss: 1.3129 - val_categorical_crossentropy: 1.4737 - val_accuracy: 0.4900\n",
      "Epoch 6/10\n",
      "80/80 [==============================] - 11s 142ms/step - loss: 1.0397 - categorical_crossentropy: 1.1815 - accuracy: 0.6368 - val_loss: 1.0674 - val_categorical_crossentropy: 1.3074 - val_accuracy: 0.6250\n",
      "Epoch 7/10\n",
      "80/80 [==============================] - 12s 146ms/step - loss: 0.8903 - categorical_crossentropy: 1.0156 - accuracy: 0.6893 - val_loss: 1.0952 - val_categorical_crossentropy: 1.2928 - val_accuracy: 0.5800\n",
      "Epoch 8/10\n",
      "80/80 [==============================] - 12s 144ms/step - loss: 0.7283 - categorical_crossentropy: 0.8414 - accuracy: 0.7345 - val_loss: 1.2950 - val_categorical_crossentropy: 1.2928 - val_accuracy: 0.5650\n",
      "Epoch 9/10\n",
      "80/80 [==============================] - 15s 185ms/step - loss: 0.5824 - categorical_crossentropy: 0.6798 - accuracy: 0.8123 - val_loss: 1.5820 - val_categorical_crossentropy: 1.4726 - val_accuracy: 0.5550\n",
      "Epoch 10/10\n",
      "80/80 [==============================] - 22s 270ms/step - loss: 0.4437 - categorical_crossentropy: 0.5236 - accuracy: 0.8499 - val_loss: 1.2579 - val_categorical_crossentropy: 1.3214 - val_accuracy: 0.5750\n"
     ]
    }
   ],
   "source": [
    "history = std_model.fit_generator(\n",
    "    train_generator,\n",
    "    steps_per_epoch=80,\n",
    "    epochs=10,\n",
    "    validation_data=validation_generator,\n",
    "    validation_steps=20)"
   ]
  },
  {
   "cell_type": "code",
   "execution_count": null,
   "metadata": {},
   "outputs": [],
   "source": []
  }
 ],
 "metadata": {
  "kernelspec": {
   "display_name": "Python 3.7 (tensorflow)",
   "language": "python",
   "name": "tensorflow"
  },
  "language_info": {
   "codemirror_mode": {
    "name": "ipython",
    "version": 3
   },
   "file_extension": ".py",
   "mimetype": "text/x-python",
   "name": "python",
   "nbconvert_exporter": "python",
   "pygments_lexer": "ipython3",
   "version": "3.7.7"
  }
 },
 "nbformat": 4,
 "nbformat_minor": 4
}
