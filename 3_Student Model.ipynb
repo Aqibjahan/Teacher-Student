{
 "cells": [
  {
   "cell_type": "code",
   "execution_count": 9,
   "metadata": {},
   "outputs": [],
   "source": [
    "import tensorflow as tf\n",
    "physical_devices = tf.config.experimental.list_physical_devices('GPU')\n",
    "tf.config.experimental.set_memory_growth(physical_devices[0], True)"
   ]
  },
  {
   "cell_type": "code",
   "execution_count": 10,
   "metadata": {},
   "outputs": [],
   "source": [
    "train_dir = 'E:/Jupyter NB/10 class Classification/Train_val_test/train'\n",
    "val_dir = 'E:/Jupyter NB/10 class Classification/Train_val_test/val'\n",
    "test_dir = 'E:/Jupyter NB/10 class Classification/Train_val_test/test'"
   ]
  },
  {
   "cell_type": "markdown",
   "metadata": {},
   "source": [
    "# Defining Model"
   ]
  },
  {
   "cell_type": "code",
   "execution_count": 11,
   "metadata": {},
   "outputs": [],
   "source": [
    "import keras\n",
    "from keras import layers\n",
    "from keras import models"
   ]
  },
  {
   "cell_type": "code",
   "execution_count": 12,
   "metadata": {},
   "outputs": [
    {
     "name": "stdout",
     "output_type": "stream",
     "text": [
      "Model: \"sequential_2\"\n",
      "_________________________________________________________________\n",
      "Layer (type)                 Output Shape              Param #   \n",
      "=================================================================\n",
      "conv2d_3 (Conv2D)            (None, 297, 297, 16)      448       \n",
      "_________________________________________________________________\n",
      "max_pooling2d_3 (MaxPooling2 (None, 148, 148, 16)      0         \n",
      "_________________________________________________________________\n",
      "conv2d_4 (Conv2D)            (None, 146, 146, 32)      4640      \n",
      "_________________________________________________________________\n",
      "max_pooling2d_4 (MaxPooling2 (None, 73, 73, 32)        0         \n",
      "_________________________________________________________________\n",
      "flatten_2 (Flatten)          (None, 170528)            0         \n",
      "_________________________________________________________________\n",
      "dense_3 (Dense)              (None, 64)                10913856  \n",
      "_________________________________________________________________\n",
      "dense_4 (Dense)              (None, 10)                650       \n",
      "=================================================================\n",
      "Total params: 10,919,594\n",
      "Trainable params: 10,919,594\n",
      "Non-trainable params: 0\n",
      "_________________________________________________________________\n"
     ]
    }
   ],
   "source": [
    "std_model = models.Sequential([\n",
    "    layers.Conv2D(16, (3,3), activation = 'relu', input_shape = (299,299,3)),\n",
    "    layers.MaxPooling2D(2,2),\n",
    "    layers.Conv2D(32, (3,3), activation = 'relu'),\n",
    "    layers.MaxPooling2D(2,2),\n",
    "    \n",
    "    layers.Flatten(),\n",
    "    layers.Dense(64, activation = 'relu'),\n",
    "    layers.Dense(10, activation = 'softmax')\n",
    "    \n",
    "])\n",
    "\n",
    "std_model.summary()"
   ]
  },
  {
   "cell_type": "markdown",
   "metadata": {},
   "source": [
    "# Model"
   ]
  },
  {
   "cell_type": "code",
   "execution_count": 13,
   "metadata": {},
   "outputs": [
    {
     "name": "stdout",
     "output_type": "stream",
     "text": [
      "Found 1233 images belonging to 10 classes.\n",
      "Found 200 images belonging to 10 classes.\n",
      "Found 200 images belonging to 10 classes.\n"
     ]
    }
   ],
   "source": [
    "from keras.preprocessing.image import ImageDataGenerator\n",
    "\n",
    "train_datagen = ImageDataGenerator(rescale=1./255)\n",
    "val_datagen = ImageDataGenerator(rescale=1./255)\n",
    "test_datagen = ImageDataGenerator(rescale=1./255)\n",
    "\n",
    "train_generator = train_datagen.flow_from_directory(\n",
    "    train_dir,\n",
    "    target_size=(299, 299),\n",
    "    batch_size=20,\n",
    "    class_mode='categorical')\n",
    "\n",
    "validation_generator = val_datagen.flow_from_directory(\n",
    "    val_dir,\n",
    "    target_size=(299, 299),\n",
    "    batch_size=20,\n",
    "    class_mode='categorical')\n",
    "\n",
    "test_generator = test_datagen.flow_from_directory(\n",
    "    test_dir,\n",
    "    target_size=(299, 299),\n",
    "    batch_size=20,\n",
    "    class_mode='categorical')"
   ]
  },
  {
   "cell_type": "code",
   "execution_count": 14,
   "metadata": {},
   "outputs": [],
   "source": [
    "from keras.losses import categorical_crossentropy as logloss\n",
    "from keras import backend as K\n",
    "\n",
    "def loss(y_true, y_pred):\n",
    "    entropy = -K.mean(K.sum(y_pred*K.log(y_pred), 1))\n",
    "    beta = 0.1\n",
    "    return logloss(y_true, y_pred) - beta*entropy"
   ]
  },
  {
   "cell_type": "code",
   "execution_count": 15,
   "metadata": {},
   "outputs": [],
   "source": [
    "from keras import optimizers\n",
    "\n",
    "std_model.compile(loss=loss,\n",
    "    optimizer=optimizers.SGD(lr=1e-2),\n",
    "    metrics=['categorical_crossentropy', 'accuracy'])"
   ]
  },
  {
   "cell_type": "code",
   "execution_count": 16,
   "metadata": {},
   "outputs": [
    {
     "name": "stdout",
     "output_type": "stream",
     "text": [
      "Epoch 1/10\n",
      "80/80 [==============================] - 12s 153ms/step - loss: 1.9712 - categorical_crossentropy: 2.1923 - accuracy: 0.2517 - val_loss: 2.0786 - val_categorical_crossentropy: 2.3580 - val_accuracy: 0.1700\n",
      "Epoch 2/10\n",
      "80/80 [==============================] - 12s 150ms/step - loss: 1.7161 - categorical_crossentropy: 1.9188 - accuracy: 0.3553 - val_loss: 1.7364 - val_categorical_crossentropy: 1.8364 - val_accuracy: 0.4000\n",
      "Epoch 3/10\n",
      "80/80 [==============================] - 14s 171ms/step - loss: 1.5061 - categorical_crossentropy: 1.6893 - accuracy: 0.4677 - val_loss: 1.6761 - val_categorical_crossentropy: 1.7481 - val_accuracy: 0.3900\n",
      "Epoch 4/10\n",
      "80/80 [==============================] - 21s 260ms/step - loss: 1.2694 - categorical_crossentropy: 1.4311 - accuracy: 0.5454 - val_loss: 1.5477 - val_categorical_crossentropy: 1.4664 - val_accuracy: 0.5400\n",
      "Epoch 5/10\n",
      "80/80 [==============================] - 21s 261ms/step - loss: 1.1483 - categorical_crossentropy: 1.2986 - accuracy: 0.5946 - val_loss: 1.3623 - val_categorical_crossentropy: 1.5409 - val_accuracy: 0.5200\n",
      "Epoch 6/10\n",
      "80/80 [==============================] - 22s 279ms/step - loss: 1.0361 - categorical_crossentropy: 1.1748 - accuracy: 0.6234 - val_loss: 0.9545 - val_categorical_crossentropy: 1.4134 - val_accuracy: 0.5250\n",
      "Epoch 7/10\n",
      "80/80 [==============================] - 26s 329ms/step - loss: 0.8975 - categorical_crossentropy: 1.0238 - accuracy: 0.6798 - val_loss: 1.2964 - val_categorical_crossentropy: 1.4557 - val_accuracy: 0.5400\n",
      "Epoch 8/10\n",
      "80/80 [==============================] - 21s 260ms/step - loss: 0.7469 - categorical_crossentropy: 0.8573 - accuracy: 0.7472 - val_loss: 1.3117 - val_categorical_crossentropy: 1.2543 - val_accuracy: 0.6150\n",
      "Epoch 9/10\n",
      "80/80 [==============================] - 21s 261ms/step - loss: 0.6046 - categorical_crossentropy: 0.7029 - accuracy: 0.7972 - val_loss: 1.2980 - val_categorical_crossentropy: 1.3040 - val_accuracy: 0.6150\n",
      "Epoch 10/10\n",
      "80/80 [==============================] - 21s 261ms/step - loss: 0.4982 - categorical_crossentropy: 0.5849 - accuracy: 0.8343 - val_loss: 0.5391 - val_categorical_crossentropy: 1.3084 - val_accuracy: 0.6000\n"
     ]
    }
   ],
   "source": [
    "history = std_model.fit_generator(\n",
    "    train_generator,\n",
    "    steps_per_epoch=80,\n",
    "    epochs=10,\n",
    "    validation_data=validation_generator,\n",
    "    validation_steps=20)"
   ]
  },
  {
   "cell_type": "code",
   "execution_count": null,
   "metadata": {},
   "outputs": [],
   "source": []
  }
 ],
 "metadata": {
  "kernelspec": {
   "display_name": "Python 3.7 (tensorflow)",
   "language": "python",
   "name": "tensorflow"
  },
  "language_info": {
   "codemirror_mode": {
    "name": "ipython",
    "version": 3
   },
   "file_extension": ".py",
   "mimetype": "text/x-python",
   "name": "python",
   "nbconvert_exporter": "python",
   "pygments_lexer": "ipython3",
   "version": "3.7.7"
  }
 },
 "nbformat": 4,
 "nbformat_minor": 4
}
